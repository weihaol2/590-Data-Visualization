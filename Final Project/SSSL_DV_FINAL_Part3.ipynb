{
 "cells": [
  {
   "cell_type": "markdown",
   "metadata": {},
   "source": [
    "# DV_Final_Project_Part3"
   ]
  },
  {
   "cell_type": "markdown",
   "metadata": {},
   "source": [
    "Group Name: SSSL"
   ]
  },
  {
   "cell_type": "markdown",
   "metadata": {},
   "source": [
    "Group Member: Jiaxin Song, Chaohan Shang, Yun Sun, Weihao Li."
   ]
  },
  {
   "cell_type": "code",
   "execution_count": 1,
   "metadata": {},
   "outputs": [],
   "source": [
    "%matplotlib inline"
   ]
  },
  {
   "cell_type": "code",
   "execution_count": 2,
   "metadata": {},
   "outputs": [],
   "source": [
    "import re\n",
    "import collections\n",
    "import bqplot\n",
    "import plotly\n",
    "import numpy as np\n",
    "import ipywidgets\n",
    "import seaborn as sns\n",
    "import pandas as pd\n",
    "from bqplot import *\n",
    "import matplotlib.pyplot as plt"
   ]
  },
  {
   "cell_type": "code",
   "execution_count": 3,
   "metadata": {},
   "outputs": [
    {
     "data": {
      "text/html": [
       "<div>\n",
       "<style scoped>\n",
       "    .dataframe tbody tr th:only-of-type {\n",
       "        vertical-align: middle;\n",
       "    }\n",
       "\n",
       "    .dataframe tbody tr th {\n",
       "        vertical-align: top;\n",
       "    }\n",
       "\n",
       "    .dataframe thead th {\n",
       "        text-align: right;\n",
       "    }\n",
       "</style>\n",
       "<table border=\"1\" class=\"dataframe\">\n",
       "  <thead>\n",
       "    <tr style=\"text-align: right;\">\n",
       "      <th></th>\n",
       "      <th>Incident</th>\n",
       "      <th>Date reported</th>\n",
       "      <th>Time reported</th>\n",
       "      <th>Date occurred</th>\n",
       "      <th>Time occurred</th>\n",
       "      <th>General Location</th>\n",
       "      <th>Crime Description</th>\n",
       "      <th>Disposition</th>\n",
       "    </tr>\n",
       "  </thead>\n",
       "  <tbody>\n",
       "    <tr>\n",
       "      <th>count</th>\n",
       "      <td>4607</td>\n",
       "      <td>4607</td>\n",
       "      <td>4607</td>\n",
       "      <td>4607</td>\n",
       "      <td>4607</td>\n",
       "      <td>4607</td>\n",
       "      <td>4607</td>\n",
       "      <td>4607</td>\n",
       "    </tr>\n",
       "    <tr>\n",
       "      <th>unique</th>\n",
       "      <td>3841</td>\n",
       "      <td>402</td>\n",
       "      <td>1051</td>\n",
       "      <td>640</td>\n",
       "      <td>927</td>\n",
       "      <td>1296</td>\n",
       "      <td>288</td>\n",
       "      <td>15</td>\n",
       "    </tr>\n",
       "    <tr>\n",
       "      <th>top</th>\n",
       "      <td>UU1705578</td>\n",
       "      <td>2017-03-14 00:00:00</td>\n",
       "      <td>0:00</td>\n",
       "      <td>2017-03-03 00:00:00</td>\n",
       "      <td>UNKNOWN</td>\n",
       "      <td>RED LION</td>\n",
       "      <td>UNLAWFUL USE OF I.D.</td>\n",
       "      <td>REPORTED TO OTHER AGENCY</td>\n",
       "    </tr>\n",
       "    <tr>\n",
       "      <th>freq</th>\n",
       "      <td>11</td>\n",
       "      <td>124</td>\n",
       "      <td>1929</td>\n",
       "      <td>49</td>\n",
       "      <td>213</td>\n",
       "      <td>281</td>\n",
       "      <td>412</td>\n",
       "      <td>1972</td>\n",
       "    </tr>\n",
       "    <tr>\n",
       "      <th>first</th>\n",
       "      <td>NaN</td>\n",
       "      <td>2017-01-01 00:00:00</td>\n",
       "      <td>NaN</td>\n",
       "      <td>NaN</td>\n",
       "      <td>NaN</td>\n",
       "      <td>NaN</td>\n",
       "      <td>NaN</td>\n",
       "      <td>NaN</td>\n",
       "    </tr>\n",
       "    <tr>\n",
       "      <th>last</th>\n",
       "      <td>NaN</td>\n",
       "      <td>2018-03-14 00:00:00</td>\n",
       "      <td>NaN</td>\n",
       "      <td>NaN</td>\n",
       "      <td>NaN</td>\n",
       "      <td>NaN</td>\n",
       "      <td>NaN</td>\n",
       "      <td>NaN</td>\n",
       "    </tr>\n",
       "  </tbody>\n",
       "</table>\n",
       "</div>"
      ],
      "text/plain": [
       "         Incident        Date reported Time reported        Date occurred  \\\n",
       "count        4607                 4607          4607                 4607   \n",
       "unique       3841                  402          1051                  640   \n",
       "top     UU1705578  2017-03-14 00:00:00          0:00  2017-03-03 00:00:00   \n",
       "freq           11                  124          1929                   49   \n",
       "first         NaN  2017-01-01 00:00:00           NaN                  NaN   \n",
       "last          NaN  2018-03-14 00:00:00           NaN                  NaN   \n",
       "\n",
       "       Time occurred General Location     Crime Description  \\\n",
       "count           4607             4607                  4607   \n",
       "unique           927             1296                   288   \n",
       "top          UNKNOWN         RED LION  UNLAWFUL USE OF I.D.   \n",
       "freq             213              281                   412   \n",
       "first            NaN              NaN                   NaN   \n",
       "last             NaN              NaN                   NaN   \n",
       "\n",
       "                     Disposition  \n",
       "count                       4607  \n",
       "unique                        15  \n",
       "top     REPORTED TO OTHER AGENCY  \n",
       "freq                        1972  \n",
       "first                        NaN  \n",
       "last                         NaN  "
      ]
     },
     "execution_count": 3,
     "metadata": {},
     "output_type": "execute_result"
    }
   ],
   "source": [
    "data = pd.read_excel(\"DV_Dataset.xlsx\")\n",
    "data.describe()"
   ]
  },
  {
   "cell_type": "markdown",
   "metadata": {},
   "source": [
    "Our dataset has 8 columns and 4607 rows. It is about the daliy crime which happens in the university area."
   ]
  },
  {
   "cell_type": "code",
   "execution_count": 4,
   "metadata": {},
   "outputs": [
    {
     "data": {
      "text/plain": [
       "Counter({'ADMIN CLOSED': 958,\n",
       "         'ADMIN. CLOSE': 442,\n",
       "         'ARREST': 545,\n",
       "         'CLEARED EXCEPT. JUVENILE NO CU': 2,\n",
       "         'CLEARED EXCEPT. PROS. FAIL TO': 8,\n",
       "         'CLEARED EXCEPT. REFUSAL TO COO': 4,\n",
       "         'PENDING': 219,\n",
       "         'REFERRED TO OTHER JURISDICTION': 5,\n",
       "         'REPORTED TO OTHER AGENCY': 1972,\n",
       "         'STUDENT DISC REFERRAL': 222,\n",
       "         'STUDENT DISCIPLINE': 137,\n",
       "         'STUDENT DISCIPLINE REFERRAL': 59,\n",
       "         'UNFOUNDED': 32,\n",
       "         'WARNING (TRAFFIC)': 1,\n",
       "         'unk': 1})"
      ]
     },
     "execution_count": 4,
     "metadata": {},
     "output_type": "execute_result"
    }
   ],
   "source": [
    "collections.Counter(data[\"Disposition\"])"
   ]
  },
  {
   "cell_type": "code",
   "execution_count": 5,
   "metadata": {
    "scrolled": true
   },
   "outputs": [
    {
     "data": {
      "text/plain": [
       "Counter({'ADMIN.CLOSED': 1400,\n",
       "         'ARREST': 545,\n",
       "         'CLEARED EXCEPT. JUVENILE NO CU': 2,\n",
       "         'CLEARED EXCEPT. PROS. FAIL TO': 8,\n",
       "         'CLEARED EXCEPT. REFUSAL TO COO': 4,\n",
       "         'PENDING': 219,\n",
       "         'REFERRED TO OTHER JURISDICTION': 5,\n",
       "         'REPORTED TO OTHER AGENCY': 1972,\n",
       "         'STUDENT DISCIPLINE REFERRAL': 418,\n",
       "         'UNFOUNDED': 32,\n",
       "         'WARNING (TRAFFIC)': 1,\n",
       "         'unk': 1})"
      ]
     },
     "execution_count": 5,
     "metadata": {},
     "output_type": "execute_result"
    }
   ],
   "source": [
    "# Unify the name of disposition type\n",
    "data[\"Disposition\"]=data['Disposition'].replace([\"ADMIN. CLOSE\", \"ADMIN CLOSED\"], \"ADMIN.CLOSED\")\n",
    "data[\"Disposition\"]=data['Disposition'].replace([\"STUDENT DISCIPLINE\",\"STUDENT DISC REFERRAL\"], \"STUDENT DISCIPLINE REFERRAL\")\n",
    "collections.Counter(data[\"Disposition\"])"
   ]
  },
  {
   "cell_type": "markdown",
   "metadata": {},
   "source": [
    "The pending case is the 219/4607th of the total case."
   ]
  },
  {
   "cell_type": "code",
   "execution_count": 6,
   "metadata": {},
   "outputs": [],
   "source": [
    "Disposition = pd.DataFrame(data['Disposition'].value_counts().reset_index())\n",
    "Disposition.columns = ['Disposition', 'count']"
   ]
  },
  {
   "cell_type": "code",
   "execution_count": 7,
   "metadata": {},
   "outputs": [
    {
     "data": {
      "text/plain": [
       "Text(0.5,0.98,'Dispostion Distribution')"
      ]
     },
     "execution_count": 7,
     "metadata": {},
     "output_type": "execute_result"
    },
    {
     "data": {
      "image/png": "[encoded data removed]",
      "text/plain": [
       "<matplotlib.figure.Figure at 0x1147e0ac8>"
      ]
     },
     "metadata": {},
     "output_type": "display_data"
    }
   ],
   "source": [
    "# Use bubble chart and pie chart to see the proportion of pending case in the overall cases.\n",
    "plt.figure(figsize=(20,9))\n",
    "plt.subplot(121)\n",
    "plt.xticks(rotation=90)\n",
    "plt.ylim(-100,2400)\n",
    "plt.scatter(Disposition[\"Disposition\"], y = Disposition[\"count\"],s=Disposition[\"count\"]*1,c=\"red\", alpha=0.4)\n",
    "plt.subplot(122)\n",
    "fig=plt.pie(Disposition[\"count\"], explode=0.05 * np.ones(12), startangle=180,labels=['','','','','','pending','','','','','',''])[0]\n",
    "plt.suptitle(\"Dispostion Distribution\")"
   ]
  },
  {
   "cell_type": "markdown",
   "metadata": {},
   "source": [
    "Compared with other disposition situations, the pending cases only occupie a very small proportion of all cases.\n",
    "It means that case resolution is more efficient."
   ]
  },
  {
   "cell_type": "markdown",
   "metadata": {},
   "source": [
    "# Classify the location into outdoor and indoor location"
   ]
  },
  {
   "cell_type": "markdown",
   "metadata": {},
   "source": [
    "We use the regex to filter the 'General Location' column and divide it into two categories: Indoor & Outdoor.\n",
    "In this procedure, we determine if the column contains the following characters: 'ST','DR','AV','AVE','E','N','W','S'.\n",
    "For those who meet the requirements, we replace the location with 'Outside' and vice versa."
   ]
  },
  {
   "cell_type": "code",
   "execution_count": 8,
   "metadata": {},
   "outputs": [],
   "source": [
    "def location_sort(location):\n",
    "    # We add one column to show the status of each incident.\n",
    "    status = []\n",
    "    crime = data[\"Crime Description\"]\n",
    "    st = r' ST| DR| AV| AVE| E | N | W | S |'\n",
    "    Outside = 0\n",
    "    Indoor = 0\n",
    "    for i in range(len(location)):\n",
    "        if len(set(re.findall(st,location[i])))==1:\n",
    "            status.append(\"Outside\")\n",
    "            Outside +=1\n",
    "        else:\n",
    "            Indoor +=1\n",
    "            status.append(\"Indoor\")\n",
    "    status = pd.DataFrame(status)\n",
    "    result = pd.concat([location, crime, status], axis=1)\n",
    "    result.columns = ['Location','Crime Description','Status']\n",
    "    return result\n",
    "In_N_Out = location_sort(data[\"General Location\"])"
   ]
  },
  {
   "cell_type": "code",
   "execution_count": 9,
   "metadata": {},
   "outputs": [],
   "source": [
    "# Divide the entire dataset into two parts: indoor data and outdoor data.\n",
    "in_data = []\n",
    "ot_data = []\n",
    "for i in range(len(In_N_Out)):\n",
    "    if In_N_Out['Status'][i] == 'Indoor':\n",
    "        in_data.append(In_N_Out['Crime Description'][i])\n",
    "    else:\n",
    "        ot_data.append(In_N_Out['Crime Description'][i])\n",
    "in_data = pd.DataFrame({'Crime Description':in_data})\n",
    "ot_data = pd.DataFrame({'Crime Description':ot_data})"
   ]
  },
  {
   "cell_type": "markdown",
   "metadata": {},
   "source": [
    "##### Visualize for comparison of different number of indoor or outside\n",
    "For this visualization, we use the bar chart and pie chart in matplotlib package. After counting the number of indoor and outside, we show the number and percentage of locations. From the pie chart, we can find that outside has the higher probability of crime than indoor."
   ]
  },
  {
   "cell_type": "code",
   "execution_count": 10,
   "metadata": {},
   "outputs": [
    {
     "data": {
      "image/png": "[encoded data removed]",
      "text/plain": [
       "<matplotlib.figure.Figure at 0x1149fb320>"
      ]
     },
     "metadata": {},
     "output_type": "display_data"
    }
   ],
   "source": [
    "# Check the indoor and outdoor location's proportion with bar chart and pie chart.\n",
    "outnum = 0\n",
    "innum = 0\n",
    "for i in range(len(In_N_Out['Status'])):\n",
    "    if In_N_Out['Status'][i] == 'Outside':\n",
    "        outnum += 1\n",
    "    else:\n",
    "        innum += 1\n",
    "name_list = ['Outside','Indoor']  \n",
    "num_list = [outnum, innum] \n",
    "\n",
    "fig=plt.figure(figsize=(10, 5))\n",
    "ax1 = fig.add_subplot(1,2,1)\n",
    "x = range(len(num_list))\n",
    "y=num_list\n",
    "color_list=['pink','#4fc4aa']\n",
    "ax1.bar(x, y,color=color_list,tick_label=name_list)  \n",
    "ax1.set_xlabel('Location') \n",
    "ax1.set_ylabel('Number of Incident') \n",
    "for a,b in zip(x,y):\n",
    "    ax1.text(a, b+0.05, '%.0f' % b, ha='center', va= 'bottom',fontsize=10)\n",
    "ax2 = fig.add_subplot(1,2,2)\n",
    "labels = 'Outside','Indoor'\n",
    "fracs = [outnum, innum]\n",
    "explode = [0,0.1]\n",
    "ax2.pie(x=fracs, labels=labels, explode=explode,autopct='%3.1f%% ',colors=color_list,\n",
    "        shadow=True, labeldistance=1.1, startangle = 90,pctdistance = 0.6)\n",
    "plt.title('Compare the number of different location')\n",
    "plt.show()"
   ]
  },
  {
   "cell_type": "markdown",
   "metadata": {},
   "source": [
    "# Classify Crime Description into 9 categories."
   ]
  },
  {
   "cell_type": "markdown",
   "metadata": {},
   "source": [
    "By filtering the crime description, we normalize them with regex into 9 types, alcohol related type, property related type, drugs related type,etc. Then, we rename them with standard tags.\n",
    "We use a function named crime_type_sort to accomplish this complementation. "
   ]
  },
  {
   "cell_type": "code",
   "execution_count": 11,
   "metadata": {},
   "outputs": [],
   "source": [
    "# DV for crime types\n",
    "crime_1 = r'LIQUOR|ALCOHOL'\n",
    "crime_2 = r'THEFT|FRAUD|STOLEN|ROBBERY|PROPERTY|BURGLARY'\n",
    "crime_3 = r'DRUGS|CANNABIS|HEROIN'\n",
    "crime_4 = r'BATTERY|VIOLENCE|FIGHTING'\n",
    "crime_5 = r'SEX|SEXUAL|RAGE|ASSUALT'\n",
    "crime_6 = r'HARASSMENT|STALKING'\n",
    "crime_7 = r'SUICIDE'\n",
    "crime_8 = r'WEAPON|ARMED|FOID'\n",
    "crime_9 = r'I.D.'\n",
    "\n",
    "def crime_type_sort(crime_type):  \n",
    "    \n",
    "    alcohol_related = 0\n",
    "    property_related = 0\n",
    "    drugs_related = 0\n",
    "    violence_related = 0\n",
    "    sexual_related = 0\n",
    "    harassment_related = 0\n",
    "    suicide = 0\n",
    "    weapon_related = 0\n",
    "    id_related = 0\n",
    "    \n",
    "    for i in range(len(crime_type)):\n",
    "        crime_type[i].upper()\n",
    "        if len(re.findall(crime_1,crime_type[i])) >= 1:\n",
    "            alcohol_related +=1\n",
    "        if len(re.findall(crime_2,crime_type[i])) >= 1:\n",
    "            property_related +=1\n",
    "        if len(re.findall(crime_3,crime_type[i])) >= 1:\n",
    "            drugs_related +=1\n",
    "        if len(re.findall(crime_4,crime_type[i])) >= 1:\n",
    "            violence_related +=1\n",
    "        if len(re.findall(crime_5,crime_type[i])) >= 1:\n",
    "            sexual_related +=1\n",
    "        if len(re.findall(crime_6,crime_type[i])) >= 1:\n",
    "            harassment_related +=1\n",
    "        if len(re.findall(crime_7,crime_type[i])) >= 1:\n",
    "            suicide +=1\n",
    "        if len(re.findall(crime_8,crime_type[i])) >= 1:\n",
    "            weapon_related +=1\n",
    "        if len(re.findall(crime_9,crime_type[i])) >= 1:\n",
    "            id_related +=1\n",
    "    return(alcohol_related,property_related,drugs_related,\n",
    "          violence_related,sexual_related,harassment_related,\n",
    "          suicide,weapon_related,id_related)"
   ]
  },
  {
   "cell_type": "markdown",
   "metadata": {},
   "source": [
    "##### Visualize for combination of crime types and indoor/outside location\n",
    "For this visualization, we use stack chart in bqplot package. With the code of crime_type_sort(in_data[]), we can combine the data of crime types and location. From the stack chart, we can find that outside has the higher probability of crime than indoor. And property is the most common crime. When we select one crime type, it will show the number of crime."
   ]
  },
  {
   "cell_type": "code",
   "execution_count": 12,
   "metadata": {},
   "outputs": [
    {
     "data": {
      "application/vnd.jupyter.widget-view+json": {
       "model_id": "42506d9741d043558543038519dfa6eb",
       "version_major": 2,
       "version_minor": 0
      },
      "text/html": [
       "<p>Failed to display Jupyter Widget of type <code>Figure</code>.</p>\n",
       "<p>\n",
       "  If you're reading this message in the Jupyter Notebook or JupyterLab Notebook, it may mean\n",
       "  that the widgets JavaScript is still loading. If this message persists, it\n",
       "  likely means that the widgets JavaScript library is either not installed or\n",
       "  not enabled. See the <a href=\"https://ipywidgets.readthedocs.io/en/stable/user_install.html\">Jupyter\n",
       "  Widgets Documentation</a> for setup instructions.\n",
       "</p>\n",
       "<p>\n",
       "  If you're reading this message in another frontend (for example, a static\n",
       "  rendering on GitHub or <a href=\"https://nbviewer.jupyter.org/\">NBViewer</a>),\n",
       "  it may mean that your frontend doesn't currently support widgets.\n",
       "</p>\n"
      ],
      "text/plain": [
       "Figure(axes=[Axis(label='Crime Type', scale=OrdinalScale()), Axis(label='Number of Crimes', orientation='vertical', scale=LinearScale())], fig_margin={'top': 60, 'bottom': 60, 'left': 60, 'right': 60}, layout=Layout(min_width='125px'), marks=[Bars(colors=['#6699CC', 'pink'], display_legend=True, interactions={'hover': 'tooltip'}, labels=['Indoor', 'Outside'], scales={'x': OrdinalScale(), 'y': LinearScale()}, scales_metadata={'x': {'orientation': 'horizontal', 'dimension': 'x'}, 'y': {'orientation': 'vertical', 'dimension': 'y'}, 'color': {'dimension': 'color'}}, tooltip=Tooltip(fields=['y'], labels=['Number']), tooltip_style={'opacity': 0.9}, x=array(['alcohol', 'property', 'drugs', 'violence', 'sexual', 'harassment',\n",
       "       'suicide', 'weapon', 'id'], dtype='<U10'), y=array([[177, 550,  85, 127, 115,  18,  36,  19,  18],\n",
       "       [475, 604, 389, 125, 398, 109,   4,   8, 401]]))], scale_x=LinearScale(allow_padding=False, max=1.0, min=0.0), scale_y=LinearScale(allow_padding=False, max=1.0, min=0.0), title='Compare the crime types of outside and indoor')"
      ]
     },
     "metadata": {},
     "output_type": "display_data"
    }
   ],
   "source": [
    "#use stack chart to compare the crimes types respect to indoor and outdoor\n",
    "critypes = ['alcohol','property','drugs','violence','sexual','harassment','suicide','weapon','id']\n",
    "x_sc = OrdinalScale()\n",
    "y_sc = LinearScale()\n",
    "#x_data = np.arange(len(critypes))\n",
    "y_in = np.array(crime_type_sort(in_data['Crime Description']))\n",
    "y_out = np.array(crime_type_sort(ot_data['Crime Description']))\n",
    "\n",
    "def_tt = Tooltip(fields=['y'],labels=['Number'])\n",
    "bar_chart = Bars(x=critypes, y=[y_in.tolist(),y_out.tolist()], scales= {'x': x_sc, 'y': y_sc},\n",
    "                 colors=['#6699CC','pink'],\n",
    "                 labels=['Indoor', 'Outside'],tooltip=def_tt,\n",
    "                 display_legend=True)\n",
    "\n",
    "ax_x = Axis(label='Crime Type',scale=x_sc)\n",
    "ax_y = Axis(label='Number of Crimes',scale=y_sc, orientation='vertical')\n",
    "\n",
    "Figure(marks=[bar_chart], axes=[ax_x, ax_y],title='Compare the crime types of outside and indoor')"
   ]
  },
  {
   "cell_type": "markdown",
   "metadata": {},
   "source": [
    "# Occurred time VS Crime Numbers"
   ]
  },
  {
   "cell_type": "markdown",
   "metadata": {},
   "source": [
    "##### Visualize for combination of crime numbers and occured time"
   ]
  },
  {
   "cell_type": "code",
   "execution_count": 13,
   "metadata": {},
   "outputs": [],
   "source": [
    "# Extract the hour from the occurred time column \n",
    "time_occurred=[]\n",
    "match_type = '\\d+(?=:)'\n",
    "for i in range(len(data[\"Time occurred\"])):\n",
    "            time_occurred.append(re.findall(match_type,data['Time occurred'][i]))\n",
    "time_occurred= pd.DataFrame(time_occurred)    \n",
    "time_crime = pd.concat([time_occurred,data['Crime Description'],data['General Location']], axis=1)\n",
    "time_crime.columns=[\"Hour\",'Crime Description','General Location']"
   ]
  },
  {
   "cell_type": "code",
   "execution_count": 14,
   "metadata": {},
   "outputs": [],
   "source": [
    "time_crime=time_crime.dropna(axis=0, how='any').reset_index(level=None,drop=True)"
   ]
  },
  {
   "cell_type": "code",
   "execution_count": 15,
   "metadata": {},
   "outputs": [],
   "source": [
    "# Analyze the incidents which are reported in one day.\n",
    "time_series = pd.DataFrame(data['Date reported'].value_counts().reset_index())\n",
    "time_series.columns = ['date', 'count']\n",
    "new_ts = time_series.sort_values(by = ['date'])"
   ]
  },
  {
   "cell_type": "code",
   "execution_count": 16,
   "metadata": {},
   "outputs": [
    {
     "data": {
      "application/vnd.jupyter.widget-view+json": {
       "model_id": "fa091469138d46228204d1eb0f373ba7",
       "version_major": 2,
       "version_minor": 0
      },
      "text/html": [
       "<p>Failed to display Jupyter Widget of type <code>Figure</code>.</p>\n",
       "<p>\n",
       "  If you're reading this message in the Jupyter Notebook or JupyterLab Notebook, it may mean\n",
       "  that the widgets JavaScript is still loading. If this message persists, it\n",
       "  likely means that the widgets JavaScript library is either not installed or\n",
       "  not enabled. See the <a href=\"https://ipywidgets.readthedocs.io/en/stable/user_install.html\">Jupyter\n",
       "  Widgets Documentation</a> for setup instructions.\n",
       "</p>\n",
       "<p>\n",
       "  If you're reading this message in another frontend (for example, a static\n",
       "  rendering on GitHub or <a href=\"https://nbviewer.jupyter.org/\">NBViewer</a>),\n",
       "  it may mean that your frontend doesn't currently support widgets.\n",
       "</p>\n"
      ],
      "text/plain": [
       "Figure(axes=[Axis(grid_lines='dashed', label='Date', scale=DateScale()), Axis(label='Number', orientation='vertical', scale=LinearScale())], fig_margin={'left': 50, 'right': 10, 'top': 50, 'bottom': 50}, interaction=PanZoom(scales={'x': [DateScale()], 'y': [LinearScale()]}), layout=Layout(min_width='125px'), marks=[Lines(colors=['#66b3ff'], display_legend=True, interactions={'hover': 'tooltip'}, labels=['Crime numbers'], scales={'x': DateScale(), 'y': LinearScale()}, scales_metadata={'x': {'orientation': 'horizontal', 'dimension': 'x'}, 'y': {'orientation': 'vertical', 'dimension': 'y'}, 'color': {'dimension': 'color'}}, tooltip=Tooltip(fields=['color', 'name'], labels=['Date', 'Count']), tooltip_style={'opacity': 0.9}, x=array(['2017-01-01T00:00:00.000000000', '2017-01-03T00:00:00.000000000',\n",
       "       '2017-01-04T00:00:00.000000000', '2017-01-05T00:00:00.000000000',\n",
       "       '2017-01-08T00:00:00.000000000', '2017-01-09T00:00:00.000000000',\n",
       "       '2017-01-10T00:00:00.000000000', '2017-01-11T00:00:00.000000000',\n",
       "       '2017-01-12T00:00:00.000000000', '2017-01-13T00:00:00.000000000',\n",
       "       '2017-01-14T00:00:00.000000000', '2017-01-15T00:00:00.000000000',\n",
       "       '2017-01-16T00:00:00.000000000', '2017-01-17T00:00:00.000000000',\n",
       "       '2017-01-18T00:00:00.000000000', '2017-01-19T00:00:00.000000000',\n",
       "       '2017-01-20T00:00:00.000000000', '2017-01-21T00:00:00.000000000',\n",
       "       '2017-01-22T00:00:00.000000000', '2017-01-23T00:00:00.000000000',\n",
       "       '2017-01-24T00:00:00.000000000', '2017-01-25T00:00:00.000000000',\n",
       "       '2017-01-26T00:00:00.000000000', '2017-01-27T00:00:00.000000000',\n",
       "       '2017-01-28T00:00:00.000000000', '2017-01-29T00:00:00.000000000',\n",
       "       '2017-01-30T00:00:00.000000000', '2017-01-31T00:00:00.000000000',\n",
       "       '2017-02-01T00:00:00.000000000', '2017-02-02T00:00:00.000000000',\n",
       "       '2017-02-03T00:00:00.000000000', '2017-02-04T00:00:00.000000000',\n",
       "       '2017-02-05T00:00:00.000000000', '2017-02-06T00:00:00.000000000',\n",
       "       '2017-02-07T00:00:00.000000000', '2017-02-08T00:00:00.000000000',\n",
       "       '2017-02-09T00:00:00.000000000', '2017-02-10T00:00:00.000000000',\n",
       "       '2017-02-11T00:00:00.000000000', '2017-02-12T00:00:00.000000000',\n",
       "       '2017-02-13T00:00:00.000000000', '2017-02-14T00:00:00.000000000',\n",
       "       '2017-02-15T00:00:00.000000000', '2017-02-16T00:00:00.000000000',\n",
       "       '2017-02-17T00:00:00.000000000', '2017-02-18T00:00:00.000000000',\n",
       "       '2017-02-19T00:00:00.000000000', '2017-02-20T00:00:00.000000000',\n",
       "       '2017-02-21T00:00:00.000000000', '2017-02-22T00:00:00.000000000',\n",
       "       '2017-02-23T00:00:00.000000000', '2017-02-24T00:00:00.000000000',\n",
       "       '2017-02-25T00:00:00.000000000', '2017-02-26T00:00:00.000000000',\n",
       "       '2017-02-27T00:00:00.000000000', '2017-02-28T00:00:00.000000000',\n",
       "       '2017-03-01T00:00:00.000000000', '2017-03-02T00:00:00.000000000',\n",
       "       '2017-03-03T00:00:00.000000000', '2017-03-04T00:00:00.000000000',\n",
       "       '2017-03-05T00:00:00.000000000', '2017-03-06T00:00:00.000000000',\n",
       "       '2017-03-07T00:00:00.000000000', '2017-03-08T00:00:00.000000000',\n",
       "       '2017-03-09T00:00:00.000000000', '2017-03-10T00:00:00.000000000',\n",
       "       '2017-03-11T00:00:00.000000000', '2017-03-12T00:00:00.000000000',\n",
       "       '2017-03-13T00:00:00.000000000', '2017-03-14T00:00:00.000000000',\n",
       "       '2017-03-15T00:00:00.000000000', '2017-03-16T00:00:00.000000000',\n",
       "       '2017-03-17T00:00:00.000000000', '2017-03-18T00:00:00.000000000',\n",
       "       '2017-03-19T00:00:00.000000000', '2017-03-21T00:00:00.000000000',\n",
       "       '2017-03-23T00:00:00.000000000', '2017-03-25T00:00:00.000000000',\n",
       "       '2017-03-26T00:00:00.000000000', '2017-03-27T00:00:00.000000000',\n",
       "       '2017-03-28T00:00:00.000000000', '2017-03-29T00:00:00.000000000',\n",
       "       '2017-03-30T00:00:00.000000000', '2017-03-31T00:00:00.000000000',\n",
       "       '2017-04-01T00:00:00.000000000', '2017-04-02T00:00:00.000000000',\n",
       "       '2017-04-03T00:00:00.000000000', '2017-04-04T00:00:00.000000000',\n",
       "       '2017-04-05T00:00:00.000000000', '2017-04-06T00:00:00.000000000',\n",
       "       '2017-04-07T00:00:00.000000000', '2017-04-08T00:00:00.000000000',\n",
       "       '2017-04-09T00:00:00.000000000', '2017-04-10T00:00:00.000000000',\n",
       "       '2017-04-11T00:00:00.000000000', '2017-04-12T00:00:00.000000000',\n",
       "       '2017-04-13T00:00:00.000000000', '2017-04-14T00:00:00.000000000',\n",
       "       '2017-04-15T00:00:00.000000000', '2017-04-16T00:00:00.000000000',\n",
       "       '2017-04-17T00:00:00.000000000', '2017-04-18T00:00:00.000000000',\n",
       "       '2017-04-19T00:00:00.000000000', '2017-04-20T00:00:00.000000000',\n",
       "       '2017-04-21T00:00:00.000000000', '2017-04-22T00:00:00.000000000',\n",
       "       '2017-04-23T00:00:00.000000000', '2017-04-24T00:00:00.000000000',\n",
       "       '2017-04-25T00:00:00.000000000', '2017-04-26T00:00:00.000000000',\n",
       "       '2017-04-27T00:00:00.000000000', '2017-04-28T00:00:00.000000000',\n",
       "       '2017-04-29T00:00:00.000000000', '2017-04-30T00:00:00.000000000',\n",
       "       '2017-05-01T00:00:00.000000000', '2017-05-02T00:00:00.000000000',\n",
       "       '2017-05-03T00:00:00.000000000', '2017-05-04T00:00:00.000000000',\n",
       "       '2017-05-05T00:00:00.000000000', '2017-05-06T00:00:00.000000000',\n",
       "       '2017-05-07T00:00:00.000000000', '2017-05-08T00:00:00.000000000',\n",
       "       '2017-05-09T00:00:00.000000000', '2017-05-10T00:00:00.000000000',\n",
       "       '2017-05-11T00:00:00.000000000', '2017-05-12T00:00:00.000000000',\n",
       "       '2017-05-13T00:00:00.000000000', '2017-05-14T00:00:00.000000000',\n",
       "       '2017-05-15T00:00:00.000000000', '2017-05-17T00:00:00.000000000',\n",
       "       '2017-05-18T00:00:00.000000000', '2017-05-19T00:00:00.000000000',\n",
       "       '2017-05-20T00:00:00.000000000', '2017-05-21T00:00:00.000000000',\n",
       "       '2017-05-22T00:00:00.000000000', '2017-05-23T00:00:00.000000000',\n",
       "       '2017-05-24T00:00:00.000000000', '2017-05-26T00:00:00.000000000',\n",
       "       '2017-05-27T00:00:00.000000000', '2017-05-28T00:00:00.000000000',\n",
       "       '2017-05-30T00:00:00.000000000', '2017-05-31T00:00:00.000000000',\n",
       "       '2017-06-01T00:00:00.000000000', '2017-06-02T00:00:00.000000000',\n",
       "       '2017-06-03T00:00:00.000000000', '2017-06-04T00:00:00.000000000',\n",
       "       '2017-06-05T00:00:00.000000000', '2017-06-06T00:00:00.000000000',\n",
       "       '2017-06-07T00:00:00.000000000', '2017-06-08T00:00:00.000000000',\n",
       "       '2017-06-09T00:00:00.000000000', '2017-06-10T00:00:00.000000000',\n",
       "       '2017-06-11T00:00:00.000000000', '2017-06-12T00:00:00.000000000',\n",
       "       '2017-06-13T00:00:00.000000000', '2017-06-14T00:00:00.000000000',\n",
       "       '2017-06-15T00:00:00.000000000', '2017-06-16T00:00:00.000000000',\n",
       "       '2017-06-17T00:00:00.000000000', '2017-06-18T00:00:00.000000000',\n",
       "       '2017-06-19T00:00:00.000000000', '2017-06-20T00:00:00.000000000',\n",
       "       '2017-06-21T00:00:00.000000000', '2017-06-22T00:00:00.000000000',\n",
       "       '2017-06-23T00:00:00.000000000', '2017-06-24T00:00:00.000000000',\n",
       "       '2017-06-26T00:00:00.000000000', '2017-06-27T00:00:00.000000000',\n",
       "       '2017-06-28T00:00:00.000000000', '2017-06-29T00:00:00.000000000',\n",
       "       '2017-06-30T00:00:00.000000000', '2017-07-02T00:00:00.000000000',\n",
       "       '2017-07-03T00:00:00.000000000', '2017-07-05T00:00:00.000000000',\n",
       "       '2017-07-06T00:00:00.000000000', '2017-07-07T00:00:00.000000000',\n",
       "       '2017-07-08T00:00:00.000000000', '2017-07-09T00:00:00.000000000',\n",
       "       '2017-07-10T00:00:00.000000000', '2017-07-11T00:00:00.000000000',\n",
       "       '2017-07-12T00:00:00.000000000', '2017-07-13T00:00:00.000000000',\n",
       "       '2017-07-14T00:00:00.000000000', '2017-07-15T00:00:00.000000000',\n",
       "       '2017-07-16T00:00:00.000000000', '2017-07-18T00:00:00.000000000',\n",
       "       '2017-07-19T00:00:00.000000000', '2017-07-20T00:00:00.000000000',\n",
       "       '2017-07-21T00:00:00.000000000', '2017-07-22T00:00:00.000000000',\n",
       "       '2017-07-23T00:00:00.000000000', '2017-07-24T00:00:00.000000000',\n",
       "       '2017-07-25T00:00:00.000000000', '2017-07-26T00:00:00.000000000',\n",
       "       '2017-07-27T00:00:00.000000000', '2017-07-28T00:00:00.000000000',\n",
       "       '2017-07-29T00:00:00.000000000', '2017-07-31T00:00:00.000000000',\n",
       "       '2017-08-02T00:00:00.000000000', '2017-08-03T00:00:00.000000000',\n",
       "       '2017-08-04T00:00:00.000000000', '2017-08-05T00:00:00.000000000',\n",
       "       '2017-08-07T00:00:00.000000000', '2017-08-08T00:00:00.000000000',\n",
       "       '2017-08-09T00:00:00.000000000', '2017-08-10T00:00:00.000000000',\n",
       "       '2017-08-11T00:00:00.000000000', '2017-08-12T00:00:00.000000000',\n",
       "       '2017-08-13T00:00:00.000000000', '2017-08-14T00:00:00.000000000',\n",
       "       '2017-08-15T00:00:00.000000000', '2017-08-16T00:00:00.000000000',\n",
       "       '2017-08-17T00:00:00.000000000', '2017-08-18T00:00:00.000000000',\n",
       "       '2017-08-19T00:00:00.000000000', '2017-08-20T00:00:00.000000000',\n",
       "       '2017-08-21T00:00:00.000000000', '2017-08-22T00:00:00.000000000',\n",
       "       '2017-08-23T00:00:00.000000000', '2017-08-24T00:00:00.000000000',\n",
       "       '2017-08-25T00:00:00.000000000', '2017-08-26T00:00:00.000000000',\n",
       "       '2017-08-27T00:00:00.000000000', '2017-08-28T00:00:00.000000000',\n",
       "       '2017-08-29T00:00:00.000000000', '2017-08-30T00:00:00.000000000',\n",
       "       '2017-08-31T00:00:00.000000000', '2017-09-01T00:00:00.000000000',\n",
       "       '2017-09-02T00:00:00.000000000', '2017-09-03T00:00:00.000000000',\n",
       "       '2017-09-04T00:00:00.000000000', '2017-09-05T00:00:00.000000000',\n",
       "       '2017-09-06T00:00:00.000000000', '2017-09-07T00:00:00.000000000',\n",
       "       '2017-09-08T00:00:00.000000000', '2017-09-09T00:00:00.000000000',\n",
       "       '2017-09-10T00:00:00.000000000', '2017-09-11T00:00:00.000000000',\n",
       "       '2017-09-12T00:00:00.000000000', '2017-09-13T00:00:00.000000000',\n",
       "       '2017-09-14T00:00:00.000000000', '2017-09-15T00:00:00.000000000',\n",
       "       '2017-09-16T00:00:00.000000000', '2017-09-17T00:00:00.000000000',\n",
       "       '2017-09-18T00:00:00.000000000', '2017-09-19T00:00:00.000000000',\n",
       "       '2017-09-20T00:00:00.000000000', '2017-09-21T00:00:00.000000000',\n",
       "       '2017-09-22T00:00:00.000000000', '2017-09-23T00:00:00.000000000',\n",
       "       '2017-09-24T00:00:00.000000000', '2017-09-25T00:00:00.000000000',\n",
       "       '2017-09-26T00:00:00.000000000', '2017-09-27T00:00:00.000000000',\n",
       "       '2017-09-28T00:00:00.000000000', '2017-09-29T00:00:00.000000000',\n",
       "       '2017-09-30T00:00:00.000000000', '2017-10-01T00:00:00.000000000',\n",
       "       '2017-10-02T00:00:00.000000000', '2017-10-03T00:00:00.000000000',\n",
       "       '2017-10-04T00:00:00.000000000', '2017-10-05T00:00:00.000000000',\n",
       "       '2017-10-06T00:00:00.000000000', '2017-10-07T00:00:00.000000000',\n",
       "       '2017-10-08T00:00:00.000000000', '2017-10-09T00:00:00.000000000',\n",
       "       '2017-10-10T00:00:00.000000000', '2017-10-11T00:00:00.000000000',\n",
       "       '2017-10-12T00:00:00.000000000', '2017-10-13T00:00:00.000000000',\n",
       "       '2017-10-14T00:00:00.000000000', '2017-10-15T00:00:00.000000000',\n",
       "       '2017-10-16T00:00:00.000000000', '2017-10-17T00:00:00.000000000',\n",
       "       '2017-10-18T00:00:00.000000000', '2017-10-19T00:00:00.000000000',\n",
       "       '2017-10-20T00:00:00.000000000', '2017-10-21T00:00:00.000000000',\n",
       "       '2017-10-22T00:00:00.000000000', '2017-10-23T00:00:00.000000000',\n",
       "       '2017-10-24T00:00:00.000000000', '2017-10-25T00:00:00.000000000',\n",
       "       '2017-10-26T00:00:00.000000000', '2017-10-27T00:00:00.000000000',\n",
       "       '2017-10-28T00:00:00.000000000', '2017-10-29T00:00:00.000000000',\n",
       "       '2017-10-30T00:00:00.000000000', '2017-10-31T00:00:00.000000000',\n",
       "       '2017-11-01T00:00:00.000000000', '2017-11-02T00:00:00.000000000',\n",
       "       '2017-11-03T00:00:00.000000000', '2017-11-04T00:00:00.000000000',\n",
       "       '2017-11-05T00:00:00.000000000', '2017-11-06T00:00:00.000000000',\n",
       "       '2017-11-07T00:00:00.000000000', '2017-11-08T00:00:00.000000000',\n",
       "       '2017-11-09T00:00:00.000000000', '2017-11-10T00:00:00.000000000',\n",
       "       '2017-11-11T00:00:00.000000000', '2017-11-13T00:00:00.000000000',\n",
       "       '2017-11-14T00:00:00.000000000', '2017-11-15T00:00:00.000000000',\n",
       "       '2017-11-16T00:00:00.000000000', '2017-11-17T00:00:00.000000000',\n",
       "       '2017-11-18T00:00:00.000000000', '2017-11-19T00:00:00.000000000',\n",
       "       '2017-11-20T00:00:00.000000000', '2017-11-21T00:00:00.000000000',\n",
       "       '2017-11-22T00:00:00.000000000', '2017-11-24T00:00:00.000000000',\n",
       "       '2017-11-25T00:00:00.000000000', '2017-11-27T00:00:00.000000000',\n",
       "       '2017-11-28T00:00:00.000000000', '2017-11-29T00:00:00.000000000',\n",
       "       '2017-11-30T00:00:00.000000000', '2017-12-01T00:00:00.000000000',\n",
       "       '2017-12-02T00:00:00.000000000', '2017-12-03T00:00:00.000000000',\n",
       "       '2017-12-04T00:00:00.000000000', '2017-12-05T00:00:00.000000000',\n",
       "       '2017-12-06T00:00:00.000000000', '2017-12-07T00:00:00.000000000',\n",
       "       '2017-12-08T00:00:00.000000000', '2017-12-09T00:00:00.000000000',\n",
       "       '2017-12-10T00:00:00.000000000', '2017-12-11T00:00:00.000000000',\n",
       "       '2017-12-12T00:00:00.000000000', '2017-12-13T00:00:00.000000000',\n",
       "       '2017-12-14T00:00:00.000000000', '2017-12-15T00:00:00.000000000',\n",
       "       '2017-12-16T00:00:00.000000000', '2017-12-17T00:00:00.000000000',\n",
       "       '2017-12-18T00:00:00.000000000', '2017-12-19T00:00:00.000000000',\n",
       "       '2017-12-20T00:00:00.000000000', '2017-12-21T00:00:00.000000000',\n",
       "       '2017-12-22T00:00:00.000000000', '2017-12-23T00:00:00.000000000',\n",
       "       '2017-12-24T00:00:00.000000000', '2017-12-26T00:00:00.000000000',\n",
       "       '2017-12-28T00:00:00.000000000', '2017-12-31T00:00:00.000000000',\n",
       "       '2018-01-13T00:00:00.000000000', '2018-01-14T00:00:00.000000000',\n",
       "       '2018-01-15T00:00:00.000000000', '2018-01-16T00:00:00.000000000',\n",
       "       '2018-01-17T00:00:00.000000000', '2018-01-18T00:00:00.000000000',\n",
       "       '2018-01-19T00:00:00.000000000', '2018-01-20T00:00:00.000000000',\n",
       "       '2018-01-21T00:00:00.000000000', '2018-01-22T00:00:00.000000000',\n",
       "       '2018-01-23T00:00:00.000000000', '2018-01-24T00:00:00.000000000',\n",
       "       '2018-01-25T00:00:00.000000000', '2018-01-26T00:00:00.000000000',\n",
       "       '2018-01-27T00:00:00.000000000', '2018-01-28T00:00:00.000000000',\n",
       "       '2018-01-29T00:00:00.000000000', '2018-01-30T00:00:00.000000000',\n",
       "       '2018-01-31T00:00:00.000000000', '2018-02-01T00:00:00.000000000',\n",
       "       '2018-02-02T00:00:00.000000000', '2018-02-03T00:00:00.000000000',\n",
       "       '2018-02-04T00:00:00.000000000', '2018-02-05T00:00:00.000000000',\n",
       "       '2018-02-06T00:00:00.000000000', '2018-02-07T00:00:00.000000000',\n",
       "       '2018-02-08T00:00:00.000000000', '2018-02-09T00:00:00.000000000',\n",
       "       '2018-02-10T00:00:00.000000000', '2018-02-11T00:00:00.000000000',\n",
       "       '2018-02-13T00:00:00.000000000', '2018-02-14T00:00:00.000000000',\n",
       "       '2018-02-15T00:00:00.000000000', '2018-02-16T00:00:00.000000000',\n",
       "       '2018-02-17T00:00:00.000000000', '2018-02-18T00:00:00.000000000',\n",
       "       '2018-02-19T00:00:00.000000000', '2018-02-20T00:00:00.000000000',\n",
       "       '2018-02-21T00:00:00.000000000', '2018-02-22T00:00:00.000000000',\n",
       "       '2018-02-23T00:00:00.000000000', '2018-02-24T00:00:00.000000000',\n",
       "       '2018-02-25T00:00:00.000000000', '2018-02-26T00:00:00.000000000',\n",
       "       '2018-02-27T00:00:00.000000000', '2018-02-28T00:00:00.000000000',\n",
       "       '2018-03-01T00:00:00.000000000', '2018-03-02T00:00:00.000000000',\n",
       "       '2018-03-03T00:00:00.000000000', '2018-03-04T00:00:00.000000000',\n",
       "       '2018-03-05T00:00:00.000000000', '2018-03-06T00:00:00.000000000',\n",
       "       '2018-03-07T00:00:00.000000000', '2018-03-08T00:00:00.000000000',\n",
       "       '2018-03-09T00:00:00.000000000', '2018-03-10T00:00:00.000000000',\n",
       "       '2018-03-11T00:00:00.000000000', '2018-03-12T00:00:00.000000000',\n",
       "       '2018-03-13T00:00:00.000000000', '2018-03-14T00:00:00.000000000'],\n",
       "      dtype='datetime64[ns]'), y=array([  5,   2,   2,   1,   4,   2,   3,   4,   1,   2,   1,   3,   6,\n",
       "        12,   3,   4,   8,  11,   9,  10,  49,  10,  20,  17,   8,   4,\n",
       "         9,  24,  66,   5,  11,   7,   5,   9,   8,   3,  10,   6,   8,\n",
       "         7,  12,   9,   4,   7,  12,   7,   5,  15,  24, 111,  10,  15,\n",
       "         2,   4,  15,   4,   5,   7,  11,   8,  17,   9,  11,  13,   5,\n",
       "        10,  11,  13,   1, 124,   8,   7,   6,   1,   1,  19,  29,   2,\n",
       "         3,   5,   4,  63,  75,  15,   5,   4,  25,   9,   5,   9,   2,\n",
       "         5,   6,   2,  11,   4,   9,  29,   7,   7,   8,   7,   3,  10,\n",
       "         7,   4,   3,   8,   8,   5,  67,   8,   9,   5,   5,   7,   9,\n",
       "        40,   9,   5,   4,   8,  46,   9,   7,   4,   2,   4,   3,  27,\n",
       "        55,   2,   4,   1,   2,   3,   3,   9,   4,   1,   2,   2,   9,\n",
       "         2,   2,   4,  28,   4,   2,   2,   9,   9,  12,   7,   4,   1,\n",
       "         5,  51,   2,   5,   5,   6,  32,  11,   2,   1,   1,   4,   3,\n",
       "        17,   6,   2,   6,   5,   4,   3,   3,   5,   1,   1,   3,  59,\n",
       "         5,   7,   1,   2,   1,   2,   4,   3,  41,   3,   4,   4,  21,\n",
       "         4,   2,  12,   1,  18,   7,   2,   2,   6,   6,   2,   2,   3,\n",
       "         2,   5,   1,  16,   5,   6,   2,   6,   3,   5,  29,  14,  20,\n",
       "        19,  13,  19,  24,  18,  25,  15,  16,  23,   2,  11,  13,  24,\n",
       "        11,   7,   9,  24,   8,  28,   7,  30,  11,   6,  24,  11,  13,\n",
       "        12,   8,  11,   7,  10,  53,  22,  14,  18,   8,  15,  31,  11,\n",
       "        13,   8,  17,   8,   5,   8,  23,   6,  42,  37,   8,  10,  10,\n",
       "         8,   8,  11,   9,   5,   2,   7,   7,   4,   7,  11,  17,  11,\n",
       "         5,  74,  15,   8,   9,   7,   7,  10,  28,  62,  15,  36,   6,\n",
       "        13,   6,  24,  36,   6,   2,   1,  14,   7,   1,   1,   4,  14,\n",
       "        26,  19,  11,  16,   3,   5,   2,  13,  12,  14,  22,  16,   8,\n",
       "        11,  16,   5,  16,   9,   1,   8,  18,  19,   5,  28,  12,   3,\n",
       "         1,   1,   1,   1,   2,   6,   4,   5,  25,  14,   9,   7,   5,\n",
       "        22,   9,   8,  26,  11,   7,   6,   5,  13,   3,  46,  14,   1,\n",
       "         6,   5,  18,  11,   4,   9,   2,   1,  16,   2,  18,  35,   7,\n",
       "         3,   5,   3,  28,  22,  15,   6,   2,   5,   8,   3,  16,  14,\n",
       "        13,   6,  13,  28,   3,  25,   8,   5,   7,   4,  13,   1]))], scale_x=LinearScale(allow_padding=False, max=1.0, min=0.0), scale_y=LinearScale(allow_padding=False, max=1.0, min=0.0), title='Crime numbers per day')"
      ]
     },
     "metadata": {},
     "output_type": "display_data"
    }
   ],
   "source": [
    "# Adding default tooltip to Line Chart\n",
    "x_sc = DateScale()\n",
    "y_sc = LinearScale()\n",
    "x_data = new_ts['date']\n",
    "y_data = new_ts['count']\n",
    "def_tt = Tooltip(fields = ['color', 'name'], labels = ['Date', 'Count'])\n",
    "line_chart = Lines(x = x_data, y = y_data, scales = {'x': x_sc, 'y': y_sc}, \n",
    "                       tooltip = def_tt, display_legend = True, labels = [\"Crime numbers\"])\n",
    "line_chart.colors = ['#66b3ff']\n",
    "ax_x = Axis(label = 'Date', scale = x_sc, grid_lines='dashed')\n",
    "ax_y = Axis(label = 'Number', scale = y_sc, orientation = 'vertical')\n",
    "pz = interacts.PanZoom( scales = {'x': [x_sc], 'y': [y_sc]} )\n",
    "\n",
    "fig = Figure(title = \"Crime numbers per day\", marks = [line_chart], axes = [ax_x, ax_y], linestyle = 'solid',\n",
    "       legend_location='top-right',fig_margin = dict(left=50, right=10, top=50, bottom=50), interaction = pz)\n",
    "display(fig)"
   ]
  },
  {
   "cell_type": "markdown",
   "metadata": {},
   "source": [
    "We used the regression to normalize the date and hour firstly. This visualization shows the crime numbers per day, we used bqplot to make a line chart. In addition we use the Panzoom to interact that can enlarge the plot. And we can easily find which day occured the most crime incidents."
   ]
  },
  {
   "cell_type": "code",
   "execution_count": 17,
   "metadata": {},
   "outputs": [],
   "source": [
    "# Analyze the likelihood of an incident reported in each hour.\n",
    "hour_series = pd.DataFrame(time_crime['Hour'].value_counts().reset_index())\n",
    "hour_series.columns = ['hour', 'count']\n",
    "hour_series[\"hour\"] = hour_series[\"hour\"].astype(int)\n",
    "hour_series[\"count\"] = hour_series[\"count\"].apply(lambda x: x/439200*100)\n",
    "new_hs = hour_series.sort_values(by = ['hour'])"
   ]
  },
  {
   "cell_type": "code",
   "execution_count": 18,
   "metadata": {},
   "outputs": [
    {
     "data": {
      "application/vnd.jupyter.widget-view+json": {
       "model_id": "27755052a4d7455296e5c51b9fd241d1",
       "version_major": 2,
       "version_minor": 0
      },
      "text/html": [
       "<p>Failed to display Jupyter Widget of type <code>Figure</code>.</p>\n",
       "<p>\n",
       "  If you're reading this message in the Jupyter Notebook or JupyterLab Notebook, it may mean\n",
       "  that the widgets JavaScript is still loading. If this message persists, it\n",
       "  likely means that the widgets JavaScript library is either not installed or\n",
       "  not enabled. See the <a href=\"https://ipywidgets.readthedocs.io/en/stable/user_install.html\">Jupyter\n",
       "  Widgets Documentation</a> for setup instructions.\n",
       "</p>\n",
       "<p>\n",
       "  If you're reading this message in another frontend (for example, a static\n",
       "  rendering on GitHub or <a href=\"https://nbviewer.jupyter.org/\">NBViewer</a>),\n",
       "  it may mean that your frontend doesn't currently support widgets.\n",
       "</p>\n"
      ],
      "text/plain": [
       "Figure(axes=[Axis(grid_lines='dashed', label='Hour', scale=LinearScale()), Axis(label='Crime_percent', orientation='vertical', scale=LinearScale(), tick_format='0.2f')], fig_margin={'left': 50, 'right': 2, 'top': 50, 'bottom': 50}, interaction=LassoSelector(marks=[Lines(colors=['#33bb33'], display_legend=True, interactions={'hover': 'tooltip'}, labels=['Crime distribution in each hour'], scales={'x': LinearScale(), 'y': LinearScale()}, scales_metadata={'x': {'orientation': 'horizontal', 'dimension': 'x'}, 'y': {'orientation': 'vertical', 'dimension': 'y'}, 'color': {'dimension': 'color'}}, tooltip_style={'opacity': 0.9}, x=array([ 0,  1,  2,  3,  4,  5,  6,  7,  8,  9, 10, 11, 12, 13, 14, 15, 16,\n",
       "       17, 18, 19, 20, 21, 22, 23]), y=array([0.12682149, 0.08469945, 0.06147541, 0.02163024, 0.01593807,\n",
       "       0.00705829, 0.01001821, 0.00751366, 0.02026412, 0.0170765 ,\n",
       "       0.01593807, 0.02117486, 0.04257741, 0.02140255, 0.03415301,\n",
       "       0.03210383, 0.03620219, 0.03984517, 0.04690346, 0.03893443,\n",
       "       0.04417122, 0.05874317, 0.08151184, 0.11384335]))]), layout=Layout(min_width='125px'), legend_location='top', marks=[Lines(colors=['#33bb33'], display_legend=True, interactions={'hover': 'tooltip'}, labels=['Crime distribution in each hour'], scales={'x': LinearScale(), 'y': LinearScale()}, scales_metadata={'x': {'orientation': 'horizontal', 'dimension': 'x'}, 'y': {'orientation': 'vertical', 'dimension': 'y'}, 'color': {'dimension': 'color'}}, tooltip_style={'opacity': 0.9}, x=array([ 0,  1,  2,  3,  4,  5,  6,  7,  8,  9, 10, 11, 12, 13, 14, 15, 16,\n",
       "       17, 18, 19, 20, 21, 22, 23]), y=array([0.12682149, 0.08469945, 0.06147541, 0.02163024, 0.01593807,\n",
       "       0.00705829, 0.01001821, 0.00751366, 0.02026412, 0.0170765 ,\n",
       "       0.01593807, 0.02117486, 0.04257741, 0.02140255, 0.03415301,\n",
       "       0.03210383, 0.03620219, 0.03984517, 0.04690346, 0.03893443,\n",
       "       0.04417122, 0.05874317, 0.08151184, 0.11384335])), Scatter(colors=['green'], interactions={'hover': 'tooltip'}, scales={'x': LinearScale(), 'y': LinearScale()}, scales_metadata={'x': {'orientation': 'horizontal', 'dimension': 'x'}, 'y': {'orientation': 'vertical', 'dimension': 'y'}, 'color': {'dimension': 'color'}, 'size': {'dimension': 'size'}, 'opacity': {'dimension': 'opacity'}, 'rotation': {'dimension': 'rotation'}, 'skew': {'dimension': 'skew'}}, tooltip=Tooltip(fields=['x', 'y'], formats=['', '.2f'], labels=['Hour', 'Percent']), tooltip_style={'opacity': 0.9}, x=array([ 0,  1,  2,  3,  4,  5,  6,  7,  8,  9, 10, 11, 12, 13, 14, 15, 16,\n",
       "       17, 18, 19, 20, 21, 22, 23]), y=array([0.12682149, 0.08469945, 0.06147541, 0.02163024, 0.01593807,\n",
       "       0.00705829, 0.01001821, 0.00751366, 0.02026412, 0.0170765 ,\n",
       "       0.01593807, 0.02117486, 0.04257741, 0.02140255, 0.03415301,\n",
       "       0.03210383, 0.03620219, 0.03984517, 0.04690346, 0.03893443,\n",
       "       0.04417122, 0.05874317, 0.08151184, 0.11384335]))], scale_x=LinearScale(allow_padding=False, max=1.0, min=0.0), scale_y=LinearScale(allow_padding=False, max=1.0, min=0.0), title='Crime numbers per hour')"
      ]
     },
     "metadata": {},
     "output_type": "display_data"
    },
    {
     "data": {
      "application/vnd.jupyter.widget-view+json": {
       "model_id": "f97b4c4b856348ba9a03aa6ada6d0349",
       "version_major": 2,
       "version_minor": 0
      },
      "text/html": [
       "<p>Failed to display Jupyter Widget of type <code>Label</code>.</p>\n",
       "<p>\n",
       "  If you're reading this message in the Jupyter Notebook or JupyterLab Notebook, it may mean\n",
       "  that the widgets JavaScript is still loading. If this message persists, it\n",
       "  likely means that the widgets JavaScript library is either not installed or\n",
       "  not enabled. See the <a href=\"https://ipywidgets.readthedocs.io/en/stable/user_install.html\">Jupyter\n",
       "  Widgets Documentation</a> for setup instructions.\n",
       "</p>\n",
       "<p>\n",
       "  If you're reading this message in another frontend (for example, a static\n",
       "  rendering on GitHub or <a href=\"https://nbviewer.jupyter.org/\">NBViewer</a>),\n",
       "  it may mean that your frontend doesn't currently support widgets.\n",
       "</p>\n"
      ],
      "text/plain": [
       "Label(value='')"
      ]
     },
     "metadata": {},
     "output_type": "display_data"
    }
   ],
   "source": [
    "x_sc = LinearScale()\n",
    "y_sc = LinearScale()\n",
    "x_data = new_hs['hour']\n",
    "y_data = new_hs['count']\n",
    "tt = Tooltip(fields = ['x', 'y'], formats=['', '.2f'], labels = ['Hour', 'Percent'])\n",
    "scatters =Scatter(x = new_hs['hour'], y = new_hs['count'], scales = {'x': x_sc, 'y': y_sc},\n",
    "                          sizes = 0.5, tooltip = tt, colors = ['green'])\n",
    "\n",
    "line_chart = Lines(x = x_data, y = y_data, scales = {'x': x_sc, 'y': y_sc}, \n",
    "                     display_legend = True, labels = [\"Crime distribution in each hour\"])\n",
    "line_chart.colors = ['#33bb33']\n",
    "ax_x = Axis(label = 'Hour', scale = x_sc, grid_lines='dashed')\n",
    "ax_y = Axis(label = 'Crime_percent', scale = y_sc, tick_format='0.2f', orientation = 'vertical')\n",
    "ls = interacts.LassoSelector(scales = {'x': x_sc, 'y': y_sc},\n",
    "                                   marks = [line_chart])\n",
    "fig = Figure(title = \"Crime numbers per hour\", marks = [line_chart, scatters], axes = [ax_x, ax_y], linestyle = 'solid',\n",
    "       legend_location='top',fig_margin = dict(left=50, right=2, top=50, bottom=50), interaction = ls)\n",
    "label = ipywidgets.Label()\n",
    "display(fig, label)"
   ]
  },
  {
   "cell_type": "markdown",
   "metadata": {},
   "source": [
    "Then we used bqplot to combine the line chart and scatter chart to visualize the crime numbers per hour. We calculated the percent of crime incident numbers per hour firstly and used the LassoSelector to help us easily draw something or circle some data in the plot. We found that at 9 PM to 2AM the possibility of crime occured are large than other time."
   ]
  },
  {
   "cell_type": "markdown",
   "metadata": {},
   "source": [
    "# Occurred time VS General Location"
   ]
  },
  {
   "cell_type": "code",
   "execution_count": 19,
   "metadata": {},
   "outputs": [],
   "source": [
    "# Create a new dataframe which includes the time(hour) column and Crime Description."
   ]
  },
  {
   "cell_type": "code",
   "execution_count": 20,
   "metadata": {},
   "outputs": [],
   "source": [
    "# Divide the time into three periods.\n",
    "# period1: 21:00 - 3:00\n",
    "# period2: 3:00 - 12:00\n",
    "# period3: 12:00 - 21:00\n",
    "period1=[]\n",
    "period2 =[]\n",
    "period3 =[]\n",
    "index1 = []\n",
    "index2 = []\n",
    "index3 = []\n",
    "for i in range (len(time_crime['Hour'])):\n",
    "    if int(time_crime['Hour'][i]) > 21 or int(time_crime['Hour'][i]) <= 3:\n",
    "                                    period1.append(time_crime['Hour'][i])\n",
    "                                    index1.append(i)\n",
    "    if int(time_crime['Hour'][i]) > 3 and int(time_crime['Hour'][i]) <= 12:\n",
    "                                    period2.append(time_crime['Hour'][i])\n",
    "                                    index2.append(i)\n",
    "    if int(time_crime['Hour'][i]) > 12 and int(time_crime['Hour'][i]) <= 21:\n",
    "                                    period3.append(time_crime['Hour'][i])\n",
    "                                    index3.append(i)\n",
    "period1 = pd.DataFrame(period1) \n",
    "period2 = pd.DataFrame(period2) \n",
    "period3 = pd.DataFrame(period3) "
   ]
  },
  {
   "cell_type": "code",
   "execution_count": 21,
   "metadata": {},
   "outputs": [],
   "source": [
    "# Classify the Crime Description repect to the three time periods.\n",
    "crime1 = []\n",
    "for i in range(len(index1)):\n",
    "    crime1.append(time_crime[\"Crime Description\"][i])\n",
    "crime2 = []\n",
    "for i in range(len(index2)):\n",
    "    crime2.append(time_crime[\"Crime Description\"][i])\n",
    "crime3 = []\n",
    "for i in range(len(index3)):\n",
    "    crime3.append(time_crime[\"Crime Description\"][i])\n",
    "crime1 = pd.DataFrame(crime1) \n",
    "crime2 = pd.DataFrame(crime2) \n",
    "crime3 = pd.DataFrame(crime3) "
   ]
  },
  {
   "cell_type": "code",
   "execution_count": 22,
   "metadata": {},
   "outputs": [],
   "source": [
    "result1 = pd.concat([period1,crime1], axis=1)\n",
    "result1.columns=[\"Hour\",'Crime Description']\n",
    "result2 = pd.concat([period2,crime2], axis=1)\n",
    "result2.columns=[\"Hour\",'Crime Description']\n",
    "result3 = pd.concat([period3,crime3], axis=1)\n",
    "result3.columns=[\"Hour\",'Crime Description']"
   ]
  },
  {
   "cell_type": "code",
   "execution_count": 23,
   "metadata": {},
   "outputs": [],
   "source": [
    "# Use the index of different time periods to filter the location information.\n",
    "# Obtain the table for the location of the crime for different time periods."
   ]
  },
  {
   "cell_type": "code",
   "execution_count": 24,
   "metadata": {},
   "outputs": [],
   "source": [
    "location1 = []\n",
    "for i in range(len(index1)):\n",
    "    location1.append(time_crime[\"General Location\"][i])\n",
    "location2 = []\n",
    "for i in range(len(index2)):\n",
    "    location2.append(time_crime[\"General Location\"][i])\n",
    "location3 = []\n",
    "for i in range(len(index3)):\n",
    "    location3.append(time_crime[\"General Location\"][i])\n",
    "location1 = pd.DataFrame(location1) \n",
    "location2 = pd.DataFrame(location2) \n",
    "location3 = pd.DataFrame(location3)"
   ]
  },
  {
   "cell_type": "code",
   "execution_count": 25,
   "metadata": {},
   "outputs": [],
   "source": [
    "time_location1= pd.concat([period1,location1], axis=1)\n",
    "time_location1.columns=[\"Hour\",'General Location']\n",
    "time_location2 = pd.concat([period2,location2], axis=1)\n",
    "time_location2.columns=[\"Hour\",'General Location']\n",
    "time_location3 = pd.concat([period3,location3], axis=1)\n",
    "time_location3.columns=[\"Hour\",'General Location']"
   ]
  },
  {
   "cell_type": "code",
   "execution_count": 26,
   "metadata": {},
   "outputs": [],
   "source": [
    "time_location_count1=pd.DataFrame(time_location1[\"General Location\"].value_counts().reset_index())\n",
    "time_location_count1.columns = ['General Location', 'Count']\n",
    "time_location_count2=pd.DataFrame(time_location2[\"General Location\"].value_counts().reset_index())\n",
    "time_location_count2.columns = ['General Location', 'Count']\n",
    "time_location_count3=pd.DataFrame(time_location3[\"General Location\"].value_counts().reset_index())\n",
    "time_location_count3.columns = ['General Location', 'Count']"
   ]
  },
  {
   "cell_type": "code",
   "execution_count": 27,
   "metadata": {},
   "outputs": [
    {
     "data": {
      "application/vnd.jupyter.widget-view+json": {
       "model_id": "8f6779bd4fc0427e91b807a95cfeaecc",
       "version_major": 2,
       "version_minor": 0
      },
      "text/html": [
       "<p>Failed to display Jupyter Widget of type <code>interactive</code>.</p>\n",
       "<p>\n",
       "  If you're reading this message in the Jupyter Notebook or JupyterLab Notebook, it may mean\n",
       "  that the widgets JavaScript is still loading. If this message persists, it\n",
       "  likely means that the widgets JavaScript library is either not installed or\n",
       "  not enabled. See the <a href=\"https://ipywidgets.readthedocs.io/en/stable/user_install.html\">Jupyter\n",
       "  Widgets Documentation</a> for setup instructions.\n",
       "</p>\n",
       "<p>\n",
       "  If you're reading this message in another frontend (for example, a static\n",
       "  rendering on GitHub or <a href=\"https://nbviewer.jupyter.org/\">NBViewer</a>),\n",
       "  it may mean that your frontend doesn't currently support widgets.\n",
       "</p>\n"
      ],
      "text/plain": [
       "interactive(children=(Dropdown(description='time_location', options=('period1: 21:00-3:00', 'period2: 3:00-12:00', 'period3: 12:00-21:00'), value='period1: 21:00-3:00'), Output()), _dom_classes=('widget-interact',))"
      ]
     },
     "metadata": {},
     "output_type": "display_data"
    }
   ],
   "source": [
    "# Use dropbox with bqplot to see the general Distribution of incident location.\n",
    "@ipywidgets.interact(time_location = ['period1: 21:00-3:00','period2: 3:00-12:00','period3: 12:00-21:00'],)\n",
    "def print_bandname(time_location):\n",
    "    \n",
    "    x_sc = bqplot.OrdinalScale()\n",
    "    y_sc = bqplot.LinearScale()\n",
    "\n",
    "    x_ax = bqplot.Axis(scale = x_sc, label = 'General Location')\n",
    "    y_ax = bqplot.Axis(scale = y_sc, label = 'Count', orientation = 'vertical')\n",
    "    tt = bqplot.Tooltip(fields = [\"x\",\"y\"], labels=[\"General Location\",\"Crimes\"])\n",
    "    label = ipywidgets.Label()\n",
    "    \n",
    "    if time_location=='period1: 21:00-3:00':\n",
    "        scatters = bqplot.Scatter(x = time_location_count1[\"General Location\"],\n",
    "                          y=time_location_count1[\"Count\"], scales = {'x': x_sc, 'y': y_sc},\n",
    "                          tooltip = tt, colors=['dodgerblue'])\n",
    "        fig = bqplot.Figure(marks = [scatters], axes = [y_ax], title='Crime Number for All Locations',interaction = None)\n",
    "        display(fig, label);\n",
    "        \n",
    "    if time_location=='period2: 3:00-12:00':\n",
    "        scatters = bqplot.Scatter(x = time_location_count2[\"General Location\"],\n",
    "                          y=time_location_count2[\"Count\"], scales = {'x': x_sc, 'y': y_sc},\n",
    "                          tooltip = tt, colors=['dodgerblue'])\n",
    "        fig = bqplot.Figure(marks = [scatters], axes = [y_ax],title='Crime Number for All Locations', interaction = None)\n",
    "        display(fig, label);\n",
    "        \n",
    "    if time_location=='period3: 12:00-21:00':\n",
    "        scatters = bqplot.Scatter(x = time_location_count3[\"General Location\"],\n",
    "                          y=time_location_count3[\"Count\"], scales = {'x': x_sc, 'y': y_sc},\n",
    "                          tooltip = tt, colors=['dodgerblue'])\n",
    "        fig = bqplot.Figure(marks = [scatters], axes = [y_ax], title='Crime Number for All Locations',interaction = None)\n",
    "        display(fig, label);\n",
    "    "
   ]
  },
  {
   "cell_type": "markdown",
   "metadata": {},
   "source": [
    "Use dropbox to choose different time period, the highest point of the three figures all is the red lion. Whether the time is morning or evening. And the second highest point of two figures is SDRP, which is the Student Dining and Residential Programs Building. And it is worth noting that, for the time from 3am to 12 pm, the ILLINI UNION BOOKSTORE is the second highest point. That is, there are cases that occur very often in that place in the morning. It is necessary to pay attention to safety."
   ]
  },
  {
   "cell_type": "markdown",
   "metadata": {},
   "source": [
    "# Top 10 dangerous buildings respect to various time periods."
   ]
  },
  {
   "cell_type": "code",
   "execution_count": 28,
   "metadata": {},
   "outputs": [
    {
     "data": {
      "text/plain": [
       "[('RED LION', 281),\n",
       " ('UNKNOWN LOCATION', 87),\n",
       " ('SDRP', 81),\n",
       " ('ILLINI UNION BOOKSTORE', 70),\n",
       " (\"JOE'S BREWERY\", 62)]"
      ]
     },
     "execution_count": 28,
     "metadata": {},
     "output_type": "execute_result"
    }
   ],
   "source": [
    "# Use most_common function to see the top10 building location.\n",
    "Location = collections.Counter(data[\"General Location\"])\n",
    "Location.most_common(5)"
   ]
  },
  {
   "cell_type": "code",
   "execution_count": 29,
   "metadata": {},
   "outputs": [],
   "source": [
    "#common location top10 (building)\n",
    "#common location: RED LION, SDRP, ILLINI UNION BOOKSTORE, JOE'S BREWERY, KAMS\n",
    "#               ILLINI UNION, CLYBOURNE, ALLEN RESIDENCE HALL, OGLESBY RESIDENCE HALL, WESTON RESIDENCE HALL"
   ]
  },
  {
   "cell_type": "code",
   "execution_count": 30,
   "metadata": {},
   "outputs": [],
   "source": [
    "# Demonstrate the number of incidents in each time period regarding Top10 most common location."
   ]
  },
  {
   "cell_type": "code",
   "execution_count": 31,
   "metadata": {},
   "outputs": [],
   "source": [
    "t_l_index1=[]\n",
    "t_l_index2=[]\n",
    "t_l_index3=[]\n",
    "common_location = ['RED LION','SDRP','ILLINI UNION BOOKSTORE',\"JOE'S BREWERY\",'KAMS','ILLINI UNION','CLYBOURNE','ALLEN RESIDENCE HALL',\n",
    "                  'OGLESBY RESIDENCE HALL','WESTON RESIDENCE HALL']\n",
    "\n",
    "for location in range(len(common_location)):\n",
    "    for i in range(len(time_location1)):\n",
    "        if time_location1[\"General Location\"][i] == common_location[location]:\n",
    "            t_l_index1.append(i)\n",
    "    for i in range(len(time_location2)):\n",
    "        if time_location2[\"General Location\"][i] == common_location[location]:\n",
    "            t_l_index2.append(i)\n",
    "    for i in range(len(time_location3)):\n",
    "        if time_location3[\"General Location\"][i] == common_location[location]:\n",
    "            t_l_index3.append(i)\n",
    "t_l_index1.sort()\n",
    "t_l_index2.sort()\n",
    "t_l_index3.sort()"
   ]
  },
  {
   "cell_type": "code",
   "execution_count": 32,
   "metadata": {},
   "outputs": [],
   "source": [
    "top_time_location1=time_location1.iloc[t_l_index1]\n",
    "top_time_location2=time_location2.iloc[t_l_index2]\n",
    "top_time_location3=time_location3.iloc[t_l_index3]"
   ]
  },
  {
   "cell_type": "code",
   "execution_count": 33,
   "metadata": {},
   "outputs": [],
   "source": [
    "# Use ipwidgets and dropbox to implement the interaction for the number of incidents \n",
    "# in each most common buildings vs three time periods."
   ]
  },
  {
   "cell_type": "code",
   "execution_count": 34,
   "metadata": {},
   "outputs": [
    {
     "data": {
      "application/vnd.jupyter.widget-view+json": {
       "model_id": "a0f3502ab3c94f8d9c0bea3167a44158",
       "version_major": 2,
       "version_minor": 0
      },
      "text/html": [
       "<p>Failed to display Jupyter Widget of type <code>interactive</code>.</p>\n",
       "<p>\n",
       "  If you're reading this message in the Jupyter Notebook or JupyterLab Notebook, it may mean\n",
       "  that the widgets JavaScript is still loading. If this message persists, it\n",
       "  likely means that the widgets JavaScript library is either not installed or\n",
       "  not enabled. See the <a href=\"https://ipywidgets.readthedocs.io/en/stable/user_install.html\">Jupyter\n",
       "  Widgets Documentation</a> for setup instructions.\n",
       "</p>\n",
       "<p>\n",
       "  If you're reading this message in another frontend (for example, a static\n",
       "  rendering on GitHub or <a href=\"https://nbviewer.jupyter.org/\">NBViewer</a>),\n",
       "  it may mean that your frontend doesn't currently support widgets.\n",
       "</p>\n"
      ],
      "text/plain": [
       "interactive(children=(Dropdown(description='time_period', options=('period1: 21:00-3:00', 'period2: 3:00-12:00', 'period3: 12:00-21:00'), value='period1: 21:00-3:00'), Output()), _dom_classes=('widget-interact',))"
      ]
     },
     "metadata": {},
     "output_type": "display_data"
    }
   ],
   "source": [
    "@ipywidgets.interact(time_period = ['period1: 21:00-3:00','period2: 3:00-12:00','period3: 12:00-21:00'])\n",
    "def print_bandname(time_period):\n",
    "    if time_period=='period1: 21:00-3:00':\n",
    "        sns.countplot(y=\"General Location\", data=top_time_location1)\n",
    "    if time_period=='period2: 3:00-12:00':\n",
    "        sns.countplot(y=\"General Location\", data=top_time_location2)\n",
    "    if time_period=='period3: 12:00-21:00':\n",
    "        sns.countplot(y=\"General Location\", data=top_time_location3)\n",
    "    plt.title('Top 10 dangerous public buildings in the University Area(Location vs. Crime Number )')"
   ]
  },
  {
   "cell_type": "markdown",
   "metadata": {},
   "source": [
    "From the plot, we can see the RED LION is the most unsafe place in a day.\n",
    "In the top 10 buildings, there are four bars, four residence hall and two social buildings.\n",
    "From 9pm to 3am, bar is the most common place for the crimes.\n",
    "From 3am to 12pm, social buildings and residence hall often occurs case. The bar is relatively safe, but the RED LION is a special case.\n",
    "From 12pm to 9pm, in addition to the RED LION, the safety of other buildings is similar."
   ]
  },
  {
   "cell_type": "markdown",
   "metadata": {},
   "source": [
    "# The relation between numbers of crimes and different times. "
   ]
  },
  {
   "cell_type": "code",
   "execution_count": 35,
   "metadata": {},
   "outputs": [],
   "source": [
    "period1_count=pd.DataFrame(result1[\"Hour\"].value_counts().reset_index())\n",
    "period1_count.columns = ['Hour', 'Count of Crime']\n",
    "period2_count=pd.DataFrame(result2[\"Hour\"].value_counts().reset_index())\n",
    "period2_count.columns = ['Hour', 'Count of Crime']\n",
    "period3_count=pd.DataFrame(result3[\"Hour\"].value_counts().reset_index())\n",
    "period3_count.columns = ['Hour', 'Count of Crime']"
   ]
  },
  {
   "cell_type": "code",
   "execution_count": 36,
   "metadata": {},
   "outputs": [
    {
     "data": {
      "text/plain": [
       "Text(0.5,0,'Hour')"
      ]
     },
     "execution_count": 36,
     "metadata": {},
     "output_type": "execute_result"
    },
    {
     "data": {
      "image/png": "[encoded data removed]",
      "text/plain": [
       "<matplotlib.figure.Figure at 0x115760da0>"
      ]
     },
     "metadata": {},
     "output_type": "display_data"
    }
   ],
   "source": [
    "plt.subplot(231)\n",
    "plt.scatter(period1_count[\"Hour\"].astype(int),period1_count[\"Count of Crime\"]) \n",
    "plt.ylabel('Count of Crime')\n",
    "plt.subplot(232)\n",
    "plt.scatter(period2_count[\"Hour\"].astype(int),period2_count[\"Count of Crime\"]) \n",
    "plt.title('Crime Number for Different Time Period')\n",
    "plt.subplot(233)\n",
    "plt.scatter(period3_count[\"Hour\"].astype(int),period3_count[\"Count of Crime\"])\n",
    "plt.subplot(212)\n",
    "plt.scatter(period1_count[\"Hour\"].astype(int),period1_count[\"Count of Crime\"]) \n",
    "plt.scatter(period2_count[\"Hour\"].astype(int),period2_count[\"Count of Crime\"])\n",
    "plt.scatter(period3_count[\"Hour\"].astype(int),period3_count[\"Count of Crime\"]) \n",
    "plt.ylabel('Count of Crime')\n",
    "plt.xlabel('Hour')"
   ]
  },
  {
   "cell_type": "markdown",
   "metadata": {},
   "source": [
    "The overall trend is that the closer the evening and early morning, the more crime.\n",
    "The crime is the least at 5 o'clock in the morning "
   ]
  },
  {
   "cell_type": "markdown",
   "metadata": {},
   "source": [
    "# Crime types in various time periods"
   ]
  },
  {
   "cell_type": "markdown",
   "metadata": {},
   "source": [
    "This is a visualization of the number of incidents regarding the crime categories."
   ]
  },
  {
   "cell_type": "code",
   "execution_count": 37,
   "metadata": {},
   "outputs": [],
   "source": [
    "Morning = crime_type_sort(result1[\"Crime Description\"])\n",
    "Afternoon = crime_type_sort(result2[\"Crime Description\"])\n",
    "Night = crime_type_sort(result3[\"Crime Description\"])"
   ]
  },
  {
   "cell_type": "code",
   "execution_count": 38,
   "metadata": {},
   "outputs": [],
   "source": [
    "crime_cpy = time_crime\n",
    "for i in range(len(crime_cpy['Crime Description'])):\n",
    "    if len(re.findall(crime_1,crime_cpy['Crime Description'][i])) >= 1:\n",
    "        crime_cpy['Crime Description'][i] = 'alcohol_related'\n",
    "    if len(re.findall(crime_2,crime_cpy['Crime Description'][i])) >= 1:\n",
    "        crime_cpy['Crime Description'][i] = 'property_related'\n",
    "    if len(re.findall(crime_3,crime_cpy['Crime Description'][i])) >= 1:\n",
    "        crime_cpy['Crime Description'][i] = 'drugs_related'\n",
    "    if len(re.findall(crime_4,crime_cpy['Crime Description'][i])) >= 1:\n",
    "        crime_cpy['Crime Description'][i] = 'violence_related'\n",
    "    if len(re.findall(crime_5,crime_cpy['Crime Description'][i])) >= 1:\n",
    "        crime_cpy['Crime Description'][i] = 'sexual_related'\n",
    "    if len(re.findall(crime_6,crime_cpy['Crime Description'][i])) >= 1:\n",
    "        crime_cpy['Crime Description'][i] = 'harassment_related'\n",
    "    if len(re.findall(crime_7,crime_cpy['Crime Description'][i])) >= 1:\n",
    "        crime_cpy['Crime Description'][i] = 'suicide'\n",
    "    if len(re.findall(crime_8,crime_cpy['Crime Description'][i])) >= 1:\n",
    "        crime_cpy['Crime Description'][i] = 'weapon_related'\n",
    "    if len(re.findall(crime_9,crime_cpy['Crime Description'][i])) >= 1:\n",
    "        crime_cpy['Crime Description'][i] = 'id_related'"
   ]
  },
  {
   "cell_type": "code",
   "execution_count": 39,
   "metadata": {},
   "outputs": [],
   "source": [
    "crime_type = ['alcohol_related','property_related','drugs_related',\n",
    "              'violence_related','sexual_related','harassment_related',\n",
    "              'suicide','weapon_related','id_related']\n",
    "colors = ['#e6194b','#3cb44b','#ffe119','#0082c8','#f58231',\n",
    "         '#911eb4','#46f0f0','#f032e6','#ffd8b1']\n",
    "explode = (0.02,0.02,0.02,0.02,0.02,0.02,0.02,0.02,0.02)"
   ]
  },
  {
   "cell_type": "code",
   "execution_count": 40,
   "metadata": {},
   "outputs": [
    {
     "data": {
      "application/vnd.jupyter.widget-view+json": {
       "model_id": "4761b16c61944882a082fb3b707e1981",
       "version_major": 2,
       "version_minor": 0
      },
      "text/html": [
       "<p>Failed to display Jupyter Widget of type <code>interactive</code>.</p>\n",
       "<p>\n",
       "  If you're reading this message in the Jupyter Notebook or JupyterLab Notebook, it may mean\n",
       "  that the widgets JavaScript is still loading. If this message persists, it\n",
       "  likely means that the widgets JavaScript library is either not installed or\n",
       "  not enabled. See the <a href=\"https://ipywidgets.readthedocs.io/en/stable/user_install.html\">Jupyter\n",
       "  Widgets Documentation</a> for setup instructions.\n",
       "</p>\n",
       "<p>\n",
       "  If you're reading this message in another frontend (for example, a static\n",
       "  rendering on GitHub or <a href=\"https://nbviewer.jupyter.org/\">NBViewer</a>),\n",
       "  it may mean that your frontend doesn't currently support widgets.\n",
       "</p>\n"
      ],
      "text/plain": [
       "interactive(children=(Dropdown(description='Time', options=('Morning 3:00 - 12:00', 'Afternoon 12:00 - 21:00', 'Night 21:00 - 3:00'), value='Morning 3:00 - 12:00'), Output()), _dom_classes=('widget-interact',))"
      ]
     },
     "metadata": {},
     "output_type": "display_data"
    }
   ],
   "source": [
    "@ipywidgets.interact(\n",
    "                    Time = ['Morning 3:00 - 12:00', \n",
    "                             'Afternoon 12:00 - 21:00', \n",
    "                             'Night 21:00 - 3:00'])\n",
    "def print_bar_plot(Time):\n",
    "    if Time == 'Morning 3:00 - 12:00':\n",
    "        y_data = Morning\n",
    "    if Time == 'Afternoon 12:00 - 21:00':\n",
    "        y_data = Afternoon\n",
    "    if Time == 'Night 21:00 - 3:00': \n",
    "        y_data = Night\n",
    "        \n",
    "    x_sc = OrdinalScale()\n",
    "    y_sc = LinearScale()\n",
    "    x_data = crime_type\n",
    "    \n",
    "    bar_chart = Bars(x = x_data, y = y_data, \n",
    "                     interactions={'click': 'select','hover': 'tooltip',},\n",
    "                     unselected_style = {\"opacity\": \"0.5\"},\n",
    "                     selected_style = {\"opacity\": \"1\",'fill': '#ffd8b1'},\n",
    "                     scales={'x': x_sc, 'y': y_sc})\n",
    "    ax_x = Axis(scale=x_sc)\n",
    "    ax_y = Axis(scale=y_sc, orientation='vertical')\n",
    "\n",
    "    def_tt = Tooltip(fields=['x', 'y'], formats=['', 'd'])\n",
    "    bar_chart.tooltip=def_tt\n",
    "    fig = Figure(marks=[bar_chart],axes = [ax_y],title='Frenquency of crimes in different time')\n",
    "    display(fig)"
   ]
  },
  {
   "cell_type": "markdown",
   "metadata": {},
   "source": [
    "The data visualization above demonstrated the number of incidents that occured in the most common propertities. In this visualization, Ipywidget dropbox was applied in the time selection. Also this figure was equipped with other user interactive capabilities such as hover tooltip and selecting. By moving the cursor in the certain area, the detail information(crime categories and count) would appear and by clicking the bar shown in the figure, the color would be changed for better recognition."
   ]
  },
  {
   "cell_type": "markdown",
   "metadata": {},
   "source": [
    "This is a visualization of the components of the crime types in different time periods."
   ]
  },
  {
   "cell_type": "code",
   "execution_count": 41,
   "metadata": {},
   "outputs": [
    {
     "data": {
      "application/vnd.jupyter.widget-view+json": {
       "model_id": "00eecc11b8604dc491f2d61934157274",
       "version_major": 2,
       "version_minor": 0
      },
      "text/html": [
       "<p>Failed to display Jupyter Widget of type <code>interactive</code>.</p>\n",
       "<p>\n",
       "  If you're reading this message in the Jupyter Notebook or JupyterLab Notebook, it may mean\n",
       "  that the widgets JavaScript is still loading. If this message persists, it\n",
       "  likely means that the widgets JavaScript library is either not installed or\n",
       "  not enabled. See the <a href=\"https://ipywidgets.readthedocs.io/en/stable/user_install.html\">Jupyter\n",
       "  Widgets Documentation</a> for setup instructions.\n",
       "</p>\n",
       "<p>\n",
       "  If you're reading this message in another frontend (for example, a static\n",
       "  rendering on GitHub or <a href=\"https://nbviewer.jupyter.org/\">NBViewer</a>),\n",
       "  it may mean that your frontend doesn't currently support widgets.\n",
       "</p>\n"
      ],
      "text/plain": [
       "interactive(children=(Dropdown(description='Time', options=('Morning 3:00 - 12:00', 'Afternoon 12:00 - 21:00', 'Night 21:00 - 3:00'), value='Morning 3:00 - 12:00'), Output()), _dom_classes=('widget-interact',))"
      ]
     },
     "metadata": {},
     "output_type": "display_data"
    }
   ],
   "source": [
    "@ipywidgets.interact(Time = ['Morning 3:00 - 12:00', \n",
    "                             'Afternoon 12:00 - 21:00', \n",
    "                             'Night 21:00 - 3:00'])\n",
    "def print_pie_chart(Time): \n",
    "    if Time == 'Morning 3:00 - 12:00':\n",
    "        pie_data = np.array(Morning)/sum(Morning)\n",
    "    if Time == 'Afternoon 12:00 - 21:00':\n",
    "        pie_data = np.array(Afternoon)/sum(Afternoon)\n",
    "    if Time == 'Night 21:00 - 3:00':\n",
    "        pie_data = np.array(Night)/sum(Night)\n",
    "#     pie_data = Morning\n",
    "    sc = ColorScale(scheme='Reds')\n",
    "    tooltip_widget = Tooltip(fields=['size'], formats=['0.2f'])\n",
    "    pie = Pie(sizes = pie_data,display_labels='outside',  color = np.random.randn(9), \n",
    "              tooltip = tooltip_widget, interactions = {'click': 'tooltip'}, \n",
    "              selected_style = {'fill': 'red'})\n",
    "\n",
    "    pie.selected_style = {\"opacity\": \"1\", \"stroke\": \"white\", \"stroke-width\": \"2\"}\n",
    "    pie.unselected_style = {\"opacity\": \"0.4\"}\n",
    "    pie.interactions = {'click': 'select', 'hover': 'tooltip'}\n",
    "    pie.labels = list(crime_type)\n",
    "    fig = Figure(marks=[pie],title='Incident distribution in different time')\n",
    "    display(fig)"
   ]
  },
  {
   "cell_type": "markdown",
   "metadata": {},
   "source": [
    "The visualization above is backed up with Bqplot, ipywidget packages. From the dropbox, three different time periods could be seleted. After selecting the target time period, the distrbution of crimes would be shown in the pie chart, the size of the area represented the proportion of each crime categories. Note that interaction such as 'hover' and 'selecting' were applied in this plotting."
   ]
  },
  {
   "cell_type": "markdown",
   "metadata": {},
   "source": [
    "# Dangerous location map"
   ]
  },
  {
   "cell_type": "code",
   "execution_count": 42,
   "metadata": {},
   "outputs": [],
   "source": [
    "import plotly.plotly as py\n",
    "from plotly.graph_objs import *\n",
    "plotly.tools.set_credentials_file(username='Jiaxins2', api_key='WEsQb8U99ZjFhm515YU0')\n",
    "mapbox_access_token = 'pk.eyJ1IjoiY2hhb2hhbnNoYW5nIiwiYSI6ImNqZ21kcHZtcjAwbXIzMm8zcWo0dXhtdHAifQ.lb2gdvCkcLPqk5JykhY9Fg'"
   ]
  },
  {
   "cell_type": "code",
   "execution_count": 43,
   "metadata": {},
   "outputs": [
    {
     "data": {
      "text/html": [
       "<iframe id=\"igraph\" scrolling=\"no\" style=\"border:none;\" seamless=\"seamless\" src=\"https://plot.ly/~Jiaxins2/7.embed\" height=\"525px\" width=\"100%\"></iframe>"
      ],
      "text/plain": [
       "<plotly.tools.PlotlyDisplay object>"
      ]
     },
     "execution_count": 43,
     "metadata": {},
     "output_type": "execute_result"
    }
   ],
   "source": [
    "mapdata = pd.DataFrame(Location.most_common(),columns = ['Location','Count']).head(10)\n",
    "mapdata['lat'] = ['40.1100049','0','40.10393699999999',\n",
    "             '40.108267','40.109713',\n",
    "             '40.1080694','40.1092101','0',\n",
    "             '40.109711','40.1041097']\n",
    "mapdata['lon'] = ['-88.23565919999999','0','-88.235277',\n",
    "             '-88.2292304','-88.23178289999998',\n",
    "             '-88.22953769999998','-88.22722249999998','0',\n",
    "             '-88.230235','-88.22085049999998']\n",
    "data = Data([\n",
    "    Scattermapbox(\n",
    "        lat=list(mapdata['lat']),\n",
    "        lon= list(mapdata['lon']),\n",
    "        mode='markers',\n",
    "        marker=Marker(\n",
    "            color = mapdata['Count'] ** 0.5,\n",
    "            colorscale = 'Picnic',\n",
    "            size= (mapdata['Count']**0.5 * 2),\n",
    "            showscale= True\n",
    "        ),\n",
    "        text=list(mapdata['Count']),\n",
    "    )\n",
    "])\n",
    "layout = Layout(\n",
    "    autosize=True,\n",
    "    hovermode='closest',\n",
    "    mapbox=dict(\n",
    "        accesstoken=mapbox_access_token,\n",
    "        bearing=0,\n",
    "        center=dict(\n",
    "            lat=40.108267,\n",
    "            lon=-88.2292304\n",
    "        ),\n",
    "        pitch=0,\n",
    "        zoom=14\n",
    "    ),\n",
    ")\n",
    "\n",
    "fig = dict(data=data, layout=layout)\n",
    "py.iplot(fig, filename='Multiple Mapbox')"
   ]
  },
  {
   "cell_type": "markdown",
   "metadata": {
    "collapsed": true
   },
   "source": [
    "In this visualization, the Plotly and mapbox pacakges were used and the map was supported by Google. This visualization demonstrated the count of incidents which was based on the size. Also, the colorscale was used to help understanding the scale. Since our data was not as large as others, there were only few dots shown in the graph. Note that there was also interaction on the hover. When moving the cursor to the certain dot, the number of incidents would be shown."
   ]
  }
 ],
 "metadata": {
  "kernelspec": {
   "display_name": "Python 3",
   "language": "python",
   "name": "python3"
  },
  "language_info": {
   "codemirror_mode": {
    "name": "ipython",
    "version": 3
   },
   "file_extension": ".py",
   "mimetype": "text/x-python",
   "name": "python",
   "nbconvert_exporter": "python",
   "pygments_lexer": "ipython3",
   "version": "3.6.4"
  }
 },
 "nbformat": 4,
 "nbformat_minor": 2
}
