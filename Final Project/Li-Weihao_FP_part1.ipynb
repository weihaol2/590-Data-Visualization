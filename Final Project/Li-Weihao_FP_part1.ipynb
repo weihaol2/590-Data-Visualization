{
 "cells": [
  {
   "cell_type": "markdown",
   "metadata": {},
   "source": [
    "# Final Project: Part 1"
   ]
  },
  {
   "cell_type": "markdown",
   "metadata": {},
   "source": [
    "Read and explore the dataset."
   ]
  },
  {
   "cell_type": "code",
   "execution_count": 2,
   "metadata": {},
   "outputs": [],
   "source": [
    "import pandas as pd"
   ]
  },
  {
   "cell_type": "code",
   "execution_count": 6,
   "metadata": {
    "collapsed": true
   },
   "outputs": [],
   "source": [
    "# read the dataset\n",
    "df = pd.read_csv('Daily_Clery_Crime_Log.csv')"
   ]
  },
  {
   "cell_type": "code",
   "execution_count": 7,
   "metadata": {},
   "outputs": [
    {
     "data": {
      "text/html": [
       "<div>\n",
       "<style>\n",
       "    .dataframe thead tr:only-child th {\n",
       "        text-align: right;\n",
       "    }\n",
       "\n",
       "    .dataframe thead th {\n",
       "        text-align: left;\n",
       "    }\n",
       "\n",
       "    .dataframe tbody tr th {\n",
       "        vertical-align: top;\n",
       "    }\n",
       "</style>\n",
       "<table border=\"1\" class=\"dataframe\">\n",
       "  <thead>\n",
       "    <tr style=\"text-align: right;\">\n",
       "      <th></th>\n",
       "      <th>Incident</th>\n",
       "      <th>Date reported</th>\n",
       "      <th>Time reported</th>\n",
       "      <th>Date occurred</th>\n",
       "      <th>Time occurred</th>\n",
       "      <th>General Location</th>\n",
       "      <th>Crime Description</th>\n",
       "      <th>Disposition</th>\n",
       "    </tr>\n",
       "  </thead>\n",
       "  <tbody>\n",
       "    <tr>\n",
       "      <th>0</th>\n",
       "      <td>II1700001</td>\n",
       "      <td>1/1/2017</td>\n",
       "      <td>2:15</td>\n",
       "      <td>1/1/2017</td>\n",
       "      <td>2:14</td>\n",
       "      <td>GREEN E / FIRST ST</td>\n",
       "      <td>DRIVING UNDER THE INFL-ALCOHOL</td>\n",
       "      <td>ARREST</td>\n",
       "    </tr>\n",
       "    <tr>\n",
       "      <th>1</th>\n",
       "      <td>II1700001</td>\n",
       "      <td>1/1/2017</td>\n",
       "      <td>2:15</td>\n",
       "      <td>1/1/2017</td>\n",
       "      <td>2:14</td>\n",
       "      <td>GREEN E / FIRST ST</td>\n",
       "      <td>CANNABIS POSS 10 GM OR LESS -ORD</td>\n",
       "      <td>PENDING</td>\n",
       "    </tr>\n",
       "    <tr>\n",
       "      <th>2</th>\n",
       "      <td>II1700001</td>\n",
       "      <td>1/1/2017</td>\n",
       "      <td>2:15</td>\n",
       "      <td>1/1/2017</td>\n",
       "      <td>2:14</td>\n",
       "      <td>GREEN E / FIRST ST</td>\n",
       "      <td>BREATH ALCOHOL OVER LIMIT</td>\n",
       "      <td>ARREST</td>\n",
       "    </tr>\n",
       "    <tr>\n",
       "      <th>3</th>\n",
       "      <td>IF1700001</td>\n",
       "      <td>1/1/2017</td>\n",
       "      <td>0:43</td>\n",
       "      <td>1/1/2017</td>\n",
       "      <td>0:43</td>\n",
       "      <td>51 E GREGORY</td>\n",
       "      <td>FIGHT</td>\n",
       "      <td>ADMIN CLOSED</td>\n",
       "    </tr>\n",
       "    <tr>\n",
       "      <th>4</th>\n",
       "      <td>IF1700002</td>\n",
       "      <td>1/1/2017</td>\n",
       "      <td>1:19</td>\n",
       "      <td>1/1/2017</td>\n",
       "      <td>1:19</td>\n",
       "      <td>SHERMAN RESIDENCE HALL</td>\n",
       "      <td>LIQUOR - UNDERAGE</td>\n",
       "      <td>ADMIN CLOSED</td>\n",
       "    </tr>\n",
       "  </tbody>\n",
       "</table>\n",
       "</div>"
      ],
      "text/plain": [
       "    Incident Date reported Time reported Date occurred Time occurred  \\\n",
       "0  II1700001      1/1/2017          2:15      1/1/2017          2:14   \n",
       "1  II1700001      1/1/2017          2:15      1/1/2017          2:14   \n",
       "2  II1700001      1/1/2017          2:15      1/1/2017          2:14   \n",
       "3  IF1700001      1/1/2017          0:43      1/1/2017          0:43   \n",
       "4  IF1700002      1/1/2017          1:19      1/1/2017          1:19   \n",
       "\n",
       "         General Location                 Crime Description   Disposition  \n",
       "0      GREEN E / FIRST ST    DRIVING UNDER THE INFL-ALCOHOL        ARREST  \n",
       "1      GREEN E / FIRST ST  CANNABIS POSS 10 GM OR LESS -ORD       PENDING  \n",
       "2      GREEN E / FIRST ST         BREATH ALCOHOL OVER LIMIT        ARREST  \n",
       "3            51 E GREGORY                             FIGHT  ADMIN CLOSED  \n",
       "4  SHERMAN RESIDENCE HALL                 LIQUOR - UNDERAGE  ADMIN CLOSED  "
      ]
     },
     "execution_count": 7,
     "metadata": {},
     "output_type": "execute_result"
    }
   ],
   "source": [
    "df.head()"
   ]
  },
  {
   "cell_type": "code",
   "execution_count": 9,
   "metadata": {},
   "outputs": [
    {
     "data": {
      "text/html": [
       "<div>\n",
       "<style>\n",
       "    .dataframe thead tr:only-child th {\n",
       "        text-align: right;\n",
       "    }\n",
       "\n",
       "    .dataframe thead th {\n",
       "        text-align: left;\n",
       "    }\n",
       "\n",
       "    .dataframe tbody tr th {\n",
       "        vertical-align: top;\n",
       "    }\n",
       "</style>\n",
       "<table border=\"1\" class=\"dataframe\">\n",
       "  <thead>\n",
       "    <tr style=\"text-align: right;\">\n",
       "      <th></th>\n",
       "      <th>Incident</th>\n",
       "      <th>Date reported</th>\n",
       "      <th>Time reported</th>\n",
       "      <th>Date occurred</th>\n",
       "      <th>Time occurred</th>\n",
       "      <th>General Location</th>\n",
       "      <th>Crime Description</th>\n",
       "      <th>Disposition</th>\n",
       "    </tr>\n",
       "  </thead>\n",
       "  <tbody>\n",
       "    <tr>\n",
       "      <th>4602</th>\n",
       "      <td>00790-2018</td>\n",
       "      <td>3/13/2018</td>\n",
       "      <td>14:23</td>\n",
       "      <td>3/11/2018</td>\n",
       "      <td>23:35</td>\n",
       "      <td>WASSAJA RESIDENCE HALL</td>\n",
       "      <td>DRUGS</td>\n",
       "      <td>ADMIN CLOSED</td>\n",
       "    </tr>\n",
       "    <tr>\n",
       "      <th>4603</th>\n",
       "      <td>00795-2018</td>\n",
       "      <td>3/13/2018</td>\n",
       "      <td>14:23</td>\n",
       "      <td>3/8/2018</td>\n",
       "      <td>20:11</td>\n",
       "      <td>SDRP</td>\n",
       "      <td>LARCENY</td>\n",
       "      <td>ADMIN CLOSED</td>\n",
       "    </tr>\n",
       "    <tr>\n",
       "      <th>4604</th>\n",
       "      <td>CSA18-064</td>\n",
       "      <td>3/13/2018</td>\n",
       "      <td>9:37</td>\n",
       "      <td>3/10/2018</td>\n",
       "      <td>UNKNOWN</td>\n",
       "      <td>OFF CAMPUS</td>\n",
       "      <td>RAPE</td>\n",
       "      <td>ADMIN CLOSED</td>\n",
       "    </tr>\n",
       "    <tr>\n",
       "      <th>4605</th>\n",
       "      <td>CH1802052</td>\n",
       "      <td>3/13/2018</td>\n",
       "      <td>6:00</td>\n",
       "      <td>3/13/2018</td>\n",
       "      <td>0:40</td>\n",
       "      <td>306 E GREEN ST</td>\n",
       "      <td>DISORDERLY CONDUCT</td>\n",
       "      <td>REPORTED TO OTHER AGENCY</td>\n",
       "    </tr>\n",
       "    <tr>\n",
       "      <th>4606</th>\n",
       "      <td>IT1800171</td>\n",
       "      <td>3/14/2018</td>\n",
       "      <td>2:02</td>\n",
       "      <td>3/14/2018</td>\n",
       "      <td>2:02</td>\n",
       "      <td>GREEN ST / GOODWIN AVE</td>\n",
       "      <td>CANNABIS POSS 10 GM OR LESS -ORD</td>\n",
       "      <td>ARREST</td>\n",
       "    </tr>\n",
       "  </tbody>\n",
       "</table>\n",
       "</div>"
      ],
      "text/plain": [
       "        Incident Date reported Time reported Date occurred Time occurred  \\\n",
       "4602  00790-2018     3/13/2018         14:23     3/11/2018         23:35   \n",
       "4603  00795-2018     3/13/2018         14:23      3/8/2018         20:11   \n",
       "4604   CSA18-064     3/13/2018          9:37     3/10/2018       UNKNOWN   \n",
       "4605   CH1802052     3/13/2018          6:00     3/13/2018          0:40   \n",
       "4606   IT1800171     3/14/2018          2:02     3/14/2018          2:02   \n",
       "\n",
       "            General Location                 Crime Description  \\\n",
       "4602  WASSAJA RESIDENCE HALL                             DRUGS   \n",
       "4603                    SDRP                           LARCENY   \n",
       "4604              OFF CAMPUS                              RAPE   \n",
       "4605          306 E GREEN ST                DISORDERLY CONDUCT   \n",
       "4606  GREEN ST / GOODWIN AVE  CANNABIS POSS 10 GM OR LESS -ORD   \n",
       "\n",
       "                   Disposition  \n",
       "4602              ADMIN CLOSED  \n",
       "4603              ADMIN CLOSED  \n",
       "4604              ADMIN CLOSED  \n",
       "4605  REPORTED TO OTHER AGENCY  \n",
       "4606                    ARREST  "
      ]
     },
     "execution_count": 9,
     "metadata": {},
     "output_type": "execute_result"
    }
   ],
   "source": [
    "df.tail()"
   ]
  },
  {
   "cell_type": "code",
   "execution_count": 10,
   "metadata": {},
   "outputs": [
    {
     "data": {
      "text/plain": [
       "4607"
      ]
     },
     "execution_count": 10,
     "metadata": {},
     "output_type": "execute_result"
    }
   ],
   "source": [
    "len(df)"
   ]
  },
  {
   "cell_type": "code",
   "execution_count": 11,
   "metadata": {},
   "outputs": [
    {
     "data": {
      "text/html": [
       "<div>\n",
       "<style>\n",
       "    .dataframe thead tr:only-child th {\n",
       "        text-align: right;\n",
       "    }\n",
       "\n",
       "    .dataframe thead th {\n",
       "        text-align: left;\n",
       "    }\n",
       "\n",
       "    .dataframe tbody tr th {\n",
       "        vertical-align: top;\n",
       "    }\n",
       "</style>\n",
       "<table border=\"1\" class=\"dataframe\">\n",
       "  <thead>\n",
       "    <tr style=\"text-align: right;\">\n",
       "      <th></th>\n",
       "      <th>Incident</th>\n",
       "      <th>Date reported</th>\n",
       "      <th>Time reported</th>\n",
       "      <th>Date occurred</th>\n",
       "      <th>Time occurred</th>\n",
       "      <th>General Location</th>\n",
       "      <th>Crime Description</th>\n",
       "      <th>Disposition</th>\n",
       "    </tr>\n",
       "  </thead>\n",
       "  <tbody>\n",
       "    <tr>\n",
       "      <th>count</th>\n",
       "      <td>4607</td>\n",
       "      <td>4607</td>\n",
       "      <td>4607</td>\n",
       "      <td>4607</td>\n",
       "      <td>4607</td>\n",
       "      <td>4607</td>\n",
       "      <td>4607</td>\n",
       "      <td>4607</td>\n",
       "    </tr>\n",
       "    <tr>\n",
       "      <th>unique</th>\n",
       "      <td>3841</td>\n",
       "      <td>402</td>\n",
       "      <td>1051</td>\n",
       "      <td>640</td>\n",
       "      <td>927</td>\n",
       "      <td>1296</td>\n",
       "      <td>288</td>\n",
       "      <td>15</td>\n",
       "    </tr>\n",
       "    <tr>\n",
       "      <th>top</th>\n",
       "      <td>UU1705578</td>\n",
       "      <td>3/14/2017</td>\n",
       "      <td>0:00</td>\n",
       "      <td>3/3/2017</td>\n",
       "      <td>UNKNOWN</td>\n",
       "      <td>RED LION</td>\n",
       "      <td>UNLAWFUL USE OF I.D.</td>\n",
       "      <td>REPORTED TO OTHER AGENCY</td>\n",
       "    </tr>\n",
       "    <tr>\n",
       "      <th>freq</th>\n",
       "      <td>11</td>\n",
       "      <td>124</td>\n",
       "      <td>1929</td>\n",
       "      <td>49</td>\n",
       "      <td>213</td>\n",
       "      <td>281</td>\n",
       "      <td>412</td>\n",
       "      <td>1972</td>\n",
       "    </tr>\n",
       "  </tbody>\n",
       "</table>\n",
       "</div>"
      ],
      "text/plain": [
       "         Incident Date reported Time reported Date occurred Time occurred  \\\n",
       "count        4607          4607          4607          4607          4607   \n",
       "unique       3841           402          1051           640           927   \n",
       "top     UU1705578     3/14/2017          0:00      3/3/2017       UNKNOWN   \n",
       "freq           11           124          1929            49           213   \n",
       "\n",
       "       General Location     Crime Description               Disposition  \n",
       "count              4607                  4607                      4607  \n",
       "unique             1296                   288                        15  \n",
       "top            RED LION  UNLAWFUL USE OF I.D.  REPORTED TO OTHER AGENCY  \n",
       "freq                281                   412                      1972  "
      ]
     },
     "execution_count": 11,
     "metadata": {},
     "output_type": "execute_result"
    }
   ],
   "source": [
    "df.describe()"
   ]
  },
  {
   "cell_type": "code",
   "execution_count": 30,
   "metadata": {},
   "outputs": [],
   "source": [
    "crime_counts = df['Date reported'].value_counts()"
   ]
  },
  {
   "cell_type": "code",
   "execution_count": 40,
   "metadata": {},
   "outputs": [
    {
     "data": {
      "text/plain": [
       "3/14/2017     124\n",
       "2/22/2017     111\n",
       "3/30/2017      75\n",
       "10/31/2017     74\n",
       "4/27/2017      67\n",
       "2/1/2017       66\n",
       "3/29/2017      63\n",
       "11/8/2017      62\n",
       "7/13/2017      59\n",
       "5/18/2017      55\n",
       "9/26/2017      53\n",
       "6/16/2017      51\n",
       "1/24/2017      49\n",
       "5/9/2017       46\n",
       "2/1/2018       46\n",
       "10/12/2017     42\n",
       "7/23/2017      41\n",
       "5/4/2017       40\n",
       "10/13/2017     37\n",
       "11/10/2017     36\n",
       "11/16/2017     36\n",
       "2/16/2018      35\n",
       "6/21/2017      32\n",
       "10/2/2017      31\n",
       "9/15/2017      30\n",
       "8/23/2017      29\n",
       "3/23/2017      29\n",
       "4/14/2017      29\n",
       "9/13/2017      28\n",
       "3/6/2018       28\n",
       "             ... \n",
       "2/25/2017       2\n",
       "8/7/2017        2\n",
       "1/14/2017       1\n",
       "12/26/2017      1\n",
       "6/14/2017       1\n",
       "3/13/2017       1\n",
       "7/10/2017       1\n",
       "8/2/2017        1\n",
       "3/18/2017       1\n",
       "3/14/2018       1\n",
       "11/19/2017      1\n",
       "3/19/2017       1\n",
       "12/24/2017      1\n",
       "12/28/2017      1\n",
       "11/24/2017      1\n",
       "11/22/2017      1\n",
       "6/24/2017       1\n",
       "7/16/2017       1\n",
       "1/5/2017        1\n",
       "1/12/2017       1\n",
       "8/15/2017       1\n",
       "5/28/2017       1\n",
       "12/31/2017      1\n",
       "2/11/2018       1\n",
       "5/21/2017       1\n",
       "7/11/2017       1\n",
       "2/3/2018        1\n",
       "12/16/2017      1\n",
       "6/26/2017       1\n",
       "7/19/2017       1\n",
       "Name: Date reported, Length: 402, dtype: int64"
      ]
     },
     "execution_count": 40,
     "metadata": {},
     "output_type": "execute_result"
    }
   ],
   "source": [
    "crime_counts"
   ]
  },
  {
   "cell_type": "code",
   "execution_count": 34,
   "metadata": {},
   "outputs": [
    {
     "data": {
      "text/plain": [
       "Incident             object\n",
       "Date reported        object\n",
       "Time reported        object\n",
       "Date occurred        object\n",
       "Time occurred        object\n",
       "General Location     object\n",
       "Crime Description    object\n",
       "Disposition          object\n",
       "dtype: object"
      ]
     },
     "execution_count": 34,
     "metadata": {},
     "output_type": "execute_result"
    }
   ],
   "source": [
    "df.dtypes"
   ]
  },
  {
   "cell_type": "code",
   "execution_count": 35,
   "metadata": {},
   "outputs": [
    {
     "data": {
      "text/plain": [
       "RangeIndex(start=0, stop=4607, step=1)"
      ]
     },
     "execution_count": 35,
     "metadata": {},
     "output_type": "execute_result"
    }
   ],
   "source": [
    "df.index"
   ]
  },
  {
   "cell_type": "code",
   "execution_count": 37,
   "metadata": {},
   "outputs": [
    {
     "data": {
      "text/plain": [
       "(4607, 8)"
      ]
     },
     "execution_count": 37,
     "metadata": {},
     "output_type": "execute_result"
    }
   ],
   "source": [
    "data.shape"
   ]
  },
  {
   "cell_type": "code",
   "execution_count": 59,
   "metadata": {},
   "outputs": [
    {
     "data": {
      "text/plain": [
       "0      DRIVING UNDER THE INFL-ALCOHOL\n",
       "1    CANNABIS POSS 10 GM OR LESS -ORD\n",
       "2           BREATH ALCOHOL OVER LIMIT\n",
       "3                               FIGHT\n",
       "4                   LIQUOR - UNDERAGE\n",
       "5                     THEFT OVER $500\n",
       "6                    WARRANT-IN STATE\n",
       "7                THEFT $500 AND UNDER\n",
       "8                      SEX HARASSMENT\n",
       "9                     THEFT OVER $500\n",
       "Name: Crime Description, dtype: object"
      ]
     },
     "execution_count": 59,
     "metadata": {},
     "output_type": "execute_result"
    }
   ],
   "source": [
    "df['Crime Description'].head(10)"
   ]
  },
  {
   "cell_type": "code",
   "execution_count": 43,
   "metadata": {},
   "outputs": [],
   "source": [
    "time_series = pd.DataFrame(df['Date reported'].value_counts().reset_index())\n",
    "time_series.columns = ['date', 'count']"
   ]
  },
  {
   "cell_type": "code",
   "execution_count": 56,
   "metadata": {},
   "outputs": [],
   "source": [
    "new_ts = time_series.sort_values(by = ['date'])"
   ]
  },
  {
   "cell_type": "code",
   "execution_count": 58,
   "metadata": {},
   "outputs": [
    {
     "data": {
      "text/plain": [
       "<matplotlib.axes._subplots.AxesSubplot at 0x29187e4f5f8>"
      ]
     },
     "execution_count": 58,
     "metadata": {},
     "output_type": "execute_result"
    }
   ],
   "source": [
    "new_ts.plot(x='date', y='count')\n",
    "# plt.show()"
   ]
  },
  {
   "cell_type": "markdown",
   "metadata": {},
   "source": [
    "The dataset I used is named \"Daily_Clery_Crime_Log\". It represent the daily clery crime log in our campus from the entire 2017 year and January to March 14th in 2018. We obtained it from a record clerk in Police department, and here is a URL to obatain it: http://police.illinois.edu/crime-reporting/daily-crime-log/. But the data in this website is real-time updated and only reserve latest 60 days records. The data is no license so we can do anything we want to do such as explore the data, clean and modify the data, visualize the data, etc. After I explored the data initially, I found that the data has 4607 rows and eight columns. The rows are represent crime event records sorted by the date, and the columns represents the ID of iccident, reported date, reported time, occurred date, occurred time, general location, crime description and the disposition. The specific crime description includes: driving under the infl-alcohol, fight, sex harassment, theft and so on. When I used df.dtypes() to find the data types, I found all the datatypes in each column is object. And I also found that most crime event occurred in Mar 14th 2017 by some simple manipulations of dataset."
   ]
  },
  {
   "cell_type": "code",
   "execution_count": null,
   "metadata": {
    "collapsed": true
   },
   "outputs": [],
   "source": []
  }
 ],
 "metadata": {
  "kernelspec": {
   "display_name": "Python 3",
   "language": "python",
   "name": "python3"
  },
  "language_info": {
   "codemirror_mode": {
    "name": "ipython",
    "version": 3
   },
   "file_extension": ".py",
   "mimetype": "text/x-python",
   "name": "python",
   "nbconvert_exporter": "python",
   "pygments_lexer": "ipython3",
   "version": "3.6.1"
  },
  "widgets": {
   "application/vnd.jupyter.widget-state+json": {
    "state": {},
    "version_major": 1,
    "version_minor": 0
   }
  }
 },
 "nbformat": 4,
 "nbformat_minor": 2
}
